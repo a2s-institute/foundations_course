{
 "cells": [
  {
   "cell_type": "markdown",
   "metadata": {},
   "source": [
    "# Python For Calculus\n",
    "\n",
    "### Authors :  Michal Stolarz, Syed Musharraf Ali, Sven Ludwig\n",
    "### Based on the notebook of : Santosh Muthireddy and Divin Devaiah\n",
    "\n",
    "# Requirements\n",
    "* Numpy\n",
    "* Sympy\n",
    "* Matplotlib\n",
    "* python3\n"
   ]
  },
  {
   "cell_type": "code",
   "execution_count": null,
   "metadata": {},
   "outputs": [],
   "source": [
    "import numpy as np\n",
    "import sympy as sp\n",
    "from matplotlib import pyplot as plt"
   ]
  },
  {
   "cell_type": "markdown",
   "metadata": {},
   "source": [
    "# Slope and Derivatives"
   ]
  },
  {
   "cell_type": "code",
   "execution_count": null,
   "metadata": {},
   "outputs": [],
   "source": [
    "#Generate data using linspace\n",
    "\n",
    "data_x = np.linspace(0,10,100)\n",
    "\n",
    "x = sp.Symbol('x')\n",
    "y = sp.Function(x)\n",
    "\n",
    "y = 1 / (1+sp.exp(-(x-4)))\n",
    "y"
   ]
  },
  {
   "cell_type": "code",
   "execution_count": null,
   "metadata": {},
   "outputs": [],
   "source": [
    "# Substitute x values in y function and plot\n",
    "data_y = [y.evalf(subs={x:i}) for i in data_x]\n",
    "\n",
    "plt.figure()\n",
    "plt.grid()\n",
    "plt.xlabel(\"Time\")\n",
    "plt.ylabel(\"Distace\")\n",
    "plt.plot(data_x,data_y,label=\"distance\")\n",
    "plt.legend()"
   ]
  },
  {
   "cell_type": "code",
   "execution_count": null,
   "metadata": {},
   "outputs": [],
   "source": [
    "# First order derivative of function y\n",
    "y_prime_1 = y.diff(x,1)\n",
    "y_prime_1"
   ]
  },
  {
   "cell_type": "code",
   "execution_count": null,
   "metadata": {},
   "outputs": [],
   "source": [
    "# Substitute values in y_prime and plot\n",
    "data_y_prime = [y_prime_1.evalf(subs={x:i}) for i in data_x]\n",
    "\n",
    "fig, ax1 = plt.subplots()\n",
    "ax1.plot(data_x,data_y,label = \"distance\",color=\"tab:blue\")\n",
    "ax1.set_ylabel(\"Distance\")\n",
    "ax1.set_xlabel(\"Time\")\n",
    "ax1.set_ylim(0,1)\n",
    "ax1.set_xlim(0,10)\n",
    "ax2 = ax1.twinx()\n",
    "ax2.plot(data_x,data_y_prime,label=\"velocity\",color=\"tab:red\")\n",
    "ax2.set_ylabel(\"Velocity\")\n",
    "ax2.set_ylim(0,1)\n",
    "ax2.set_xlim(0,10)\n",
    "fig.tight_layout() "
   ]
  },
  {
   "cell_type": "markdown",
   "metadata": {},
   "source": [
    "# Derivative of non-linear function"
   ]
  },
  {
   "cell_type": "code",
   "execution_count": null,
   "metadata": {},
   "outputs": [],
   "source": [
    "#Generate x data again using linspace \n",
    "data_x = np.linspace(0,10,100)\n",
    "\n",
    "x = sp.Symbol('x')\n",
    "y = sp.Function(x)\n",
    "\n",
    "y = x**2\n",
    "y"
   ]
  },
  {
   "cell_type": "code",
   "execution_count": null,
   "metadata": {},
   "outputs": [],
   "source": [
    "data_y = [y.evalf(subs={x:i}) for i in data_x]\n",
    "\n",
    "plt.figure()\n",
    "plt.grid()\n",
    "plt.xlabel(\"x\")\n",
    "plt.ylabel(\"f(x)\")\n",
    "plt.plot(data_x,data_y,label=\"x^2\")\n",
    "plt.legend()"
   ]
  },
  {
   "cell_type": "code",
   "execution_count": null,
   "metadata": {},
   "outputs": [],
   "source": [
    "y_prime = y.diff(x,1)\n",
    "y_prime"
   ]
  },
  {
   "cell_type": "code",
   "execution_count": null,
   "metadata": {},
   "outputs": [],
   "source": [
    "data_y_prime = [y_prime.evalf(subs={x:i}) for i in data_x]\n",
    "\n",
    "fig, ax1 = plt.subplots()\n",
    "ax1.plot(data_x,data_y,label = \"f(x)\",color=\"tab:blue\")\n",
    "ax1.set_ylabel(\"f(x)\")\n",
    "ax1.set_xlabel(\"x\")\n",
    "ax1.set_xlim(0,10)\n",
    "ax2 = ax1.twinx()\n",
    "ax2.plot(data_x,data_y_prime,label=\"f_prime(x)\",color=\"tab:red\")\n",
    "ax2.set_ylabel(\"f_prime(x)\")\n",
    "ax2.set_xlim(0,10)\n",
    "fig.tight_layout() "
   ]
  },
  {
   "cell_type": "markdown",
   "metadata": {},
   "source": [
    "# Chain Rule"
   ]
  },
  {
   "cell_type": "markdown",
   "metadata": {},
   "source": [
    "Function 1\n",
    "$$f(x) = x^2$$\n",
    "\n",
    "Function 2\n",
    "$$g(y) = 1/y$$\n",
    "\n",
    "Composed Function\n",
    "$$h(x) = g(f(x))$$\n",
    "\n",
    "First Derivative via Chain Rule\n",
    "$$h'(x) = g'(f(x)) \\cdot f'(x)$$\n",
    "\n",
    "Leibniz's notation\n",
    "$$\\frac{d_z}{d_x} = \\frac{d_z}{d_y} \\frac{d_y}{d_x} $$"
   ]
  },
  {
   "cell_type": "code",
   "execution_count": null,
   "metadata": {},
   "outputs": [],
   "source": [
    "# f(x) = x^2\n",
    "x = sp.Symbol('x')\n",
    "f = sp.Function('f')(x)\n",
    "f_expr = x**2\n",
    "display(f, f_expr)"
   ]
  },
  {
   "cell_type": "code",
   "execution_count": null,
   "metadata": {},
   "outputs": [],
   "source": [
    "# g(y) = 1/y\n",
    "y = sp.Symbol('y')\n",
    "g = sp.Function('g')(y)\n",
    "g_expr = 1/y\n",
    "display(g, g_expr)"
   ]
  },
  {
   "cell_type": "code",
   "execution_count": null,
   "metadata": {},
   "outputs": [],
   "source": [
    "# compose the functions: h(x) = g(f(x))\n",
    "h = sp.Function('h')(x)\n",
    "h_expr = g_expr.subs(y, f_expr)\n",
    "display(h, h_expr)"
   ]
  },
  {
   "cell_type": "code",
   "execution_count": null,
   "metadata": {},
   "outputs": [],
   "source": [
    "# first derivative dy/dx\n",
    "f_prime = sp.Function(\"f'\")(x)\n",
    "f_prime_expr = sp.diff(f_expr, x)\n",
    "display(f_prime, f_prime_expr)"
   ]
  },
  {
   "cell_type": "code",
   "execution_count": null,
   "metadata": {},
   "outputs": [],
   "source": [
    "# first derivative dz/dy\n",
    "g_prime = sp.Function(\"g'\")(y)\n",
    "g_prime_expr = sp.diff(g_expr, y)\n",
    "display(g_prime, g_prime_expr)"
   ]
  },
  {
   "cell_type": "code",
   "execution_count": null,
   "metadata": {},
   "outputs": [],
   "source": [
    "# first derivative dz/dx\n",
    "h_prime = sp.Function(\"h'\")(x)\n",
    "h_prime_expr = sp.diff(h_expr, x)\n",
    "display(h_prime, h_prime_expr)"
   ]
  },
  {
   "cell_type": "markdown",
   "metadata": {
    "collapsed": false,
    "jupyter": {
     "outputs_hidden": false
    }
   },
   "source": [
    "First Derivative via Chain Rule\n",
    "$$h'(x) = g'(f(x)) \\cdot f'(x)$$\n",
    "\n",
    "In our above example\n",
    "$$h'(x) = \\frac{-1}{(f(x))^2} \\cdot 2x = \\frac{-2x}{f(x)^2} = -\\frac{2x}{(x^2)^2} = -\\frac{2x}{x^4} = -\\frac{2}{x^3}$$"
   ]
  },
  {
   "cell_type": "markdown",
   "metadata": {},
   "source": [
    "# Higher order derivatives"
   ]
  },
  {
   "cell_type": "code",
   "execution_count": null,
   "metadata": {},
   "outputs": [],
   "source": [
    "t = sp.Symbol('t')\n",
    "distance = sp.Function(t)\n",
    "\n",
    "distance = t**4\n",
    "distance"
   ]
  },
  {
   "cell_type": "code",
   "execution_count": null,
   "metadata": {},
   "outputs": [],
   "source": [
    "# First order derivative\n",
    "velocity = distance.diff(t,1)\n",
    "velocity"
   ]
  },
  {
   "cell_type": "code",
   "execution_count": null,
   "metadata": {},
   "outputs": [],
   "source": [
    "# Second order derivative\n",
    "acceleration = distance.diff(t,2)\n",
    "acceleration"
   ]
  },
  {
   "cell_type": "code",
   "execution_count": null,
   "metadata": {},
   "outputs": [],
   "source": [
    "data_t = np.linspace(0,5,100)\n",
    "\n",
    "distance_subs = [distance.evalf(subs={t:i}) for i in data_t]\n",
    "velocity_subs = [velocity.evalf(subs={t:i}) for i in data_t]\n",
    "acceleration_subs = [acceleration.evalf(subs={t:i}) for i in data_t]\n",
    "\n",
    "plt.plot(data_t,distance_subs,label='distance')\n",
    "plt.plot(data_t,velocity_subs,label=\"velocity\")\n",
    "plt.plot(data_t,acceleration_subs,label=\"acceleration\")\n",
    "plt.legend()\n",
    "plt.show()"
   ]
  },
  {
   "cell_type": "markdown",
   "metadata": {},
   "source": [
    "# Integrals"
   ]
  },
  {
   "cell_type": "code",
   "execution_count": null,
   "metadata": {},
   "outputs": [],
   "source": [
    "data_x = np.linspace(0,10,100)\n",
    "\n",
    "x = sp.Symbol('x')\n",
    "y = sp.Function('y')(x)\n",
    "# derivative of y w.r.t x\n",
    "y_prime = sp.Derivative(y,x)\n",
    "y_1 = 1 / (1+sp.exp(-(x-4)))\n",
    "\n",
    "# y' = e^(4-x)/(1+e^(4-x))^2\n",
    "eq = y_prime - y_1.diff(x,1)\n",
    "eq"
   ]
  },
  {
   "cell_type": "code",
   "execution_count": null,
   "metadata": {},
   "outputs": [],
   "source": [
    "# solve the differential equation\n",
    "sp.dsolve(eq)"
   ]
  },
  {
   "cell_type": "code",
   "execution_count": null,
   "metadata": {},
   "outputs": [],
   "source": [
    "# Sloving the integral with intial value\n",
    "sol = sp.dsolve(eq,ics={y.subs(x,0):0.017986})\n",
    "sol"
   ]
  },
  {
   "cell_type": "code",
   "execution_count": null,
   "metadata": {},
   "outputs": [],
   "source": [
    "sp.simplify(sol)"
   ]
  },
  {
   "cell_type": "markdown",
   "metadata": {},
   "source": [
    "# Discrete Calculus\n",
    "\n",
    "more detailed information at http://hplgit.github.io/primer.html/doc/pub/discalc/discalc-readable.html"
   ]
  },
  {
   "cell_type": "markdown",
   "metadata": {},
   "source": [
    "### Differentiation become Difference. Example: sine function\n",
    "\n",
    "Consider $f(x) = sin(x)$ and its derivative be $f'(x) = cos(x)$. For $x = 1$, we have $$f'(1) = cos(1) \\approx 0.540$$.\n",
    "\n",
    "The derivative can be approximated by difference for small value of h :\n",
    "\n",
    "$$f'(x) = \\frac{f(x+h) - f(x)}{h}$$\n",
    "\n",
    "By putting $h = \\frac{1}{100}$ we get:\n",
    "\n",
    "$$f'(1) = \\frac{f(1 + \\frac{1}{100}) - f(1)}{\\frac{1}{100}} = \\frac{sin(1.01) - sin(1)}{0.01} \\approx 0.536$$\n"
   ]
  },
  {
   "cell_type": "code",
   "execution_count": null,
   "metadata": {},
   "outputs": [],
   "source": [
    "#here is the code for the above calculation\n",
    "\n",
    "def diff(f, x, h):\n",
    "    return (f(x+h) - f(x))/float(h)\n",
    "\n",
    "\n",
    "\n",
    "x = 1\n",
    "h = 1/100\n",
    "\n",
    "approx_deriv = diff(np.sin, x, h)\n",
    "exact = np.cos(x)\n",
    "print('The approximated value is: ', approx_deriv)\n",
    "print('The correct value is:      ', exact)\n",
    "print('The error is:              ', exact - approx_deriv)"
   ]
  },
  {
   "cell_type": "markdown",
   "metadata": {},
   "source": [
    "### Integration becomes Sum. Example: sine function\n",
    "Suppose we are finding the integral of $sin(x)$ from $x = 0$ to $x = \\pi$. So we are computing $\\int_0^\\pi sin(x) dx$.\n",
    "\n",
    "We can either compute this integral analytically, i-e\n",
    "\n",
    "$$\n",
    "\\begin{align*}\n",
    "\\int_0^\\pi sin(x) dx = [-cos(x)]_0^\\pi = 2\n",
    "\\end{align*}\n",
    "$$\n",
    "\n",
    "Or we can compute this integral numerically by summation, i-e we can break this integral in sub-integral and then sum them to get the overall integral.\n",
    "\n",
    "$$\n",
    "\\begin{align*}\n",
    "\\int_0^\\pi sin(x) dx = \\sum_{k=0}^{n-1} \\int_{x_k}^{x_{k+1}} sin(x) dx\n",
    "\\end{align*}\n",
    "$$\n",
    "\n",
    "Let's divide the sum in only four subintervals, therfore $n = 4$.\n",
    "$$\n",
    "\\begin{align*}\n",
    "x_0 &= 0 \\\\\n",
    "x_1 &= \\pi/4 \\\\\n",
    "x_2 &= \\pi/2 \\\\\n",
    "x_3 &= 3\\pi/4 \\\\\n",
    "x_4 &= \\pi\n",
    "\\end{align*}\n",
    "$$\n",
    "\n",
    "So now the integral can be approximated by:\n",
    "$$\n",
    "\\begin{align*}\n",
    "\\int_0^\\pi sin(x) dx = \\int_{0}^{\\pi/4} sin(x) dx +  \\int_{\\pi/4}^{\\pi/2} sin(x) dx +  \\int_{\\pi/2}^{3\\pi/4} sin(x) dx +  \\int_{3\\pi/4}^{\\pi} sin(x) dx\n",
    "\\end{align*}\n",
    "$$\n",
    "\n",
    "These subintegrals can be found by area of trapezoid by:\n",
    "\n",
    "$$\n",
    "\\begin{align*}\n",
    " \\int_{\\pi/4}^{\\pi/2} sin(x) dx = \\frac{1}{2} (sin(\\pi/2) + sin(\\pi/4))\\ (\\pi/4 - \\pi/2)\n",
    "\\end{align*}\n",
    "$$\n",
    "This can be shown in below plot"
   ]
  },
  {
   "cell_type": "code",
   "execution_count": null,
   "metadata": {},
   "outputs": [],
   "source": [
    "fig, ax = plt.subplots(figsize = (9,5))\n",
    "\n",
    "# plotting dicrete sinus\n",
    "ax.scatter([np.pi/4, np.pi/2], [np.sin(np.pi/4),  np.sin(np.pi/2)])\n",
    "\n",
    "# plotting trapezoid\n",
    "ax.plot([np.pi/4, np.pi/2], [np.sin(np.pi/4),  np.sin(np.pi/2)])\n",
    "ax.vlines(np.pi/4,0,np.sin(np.pi/4), color = 'black')\n",
    "ax.vlines(np.pi/2,0,np.sin(np.pi/2))\n",
    "\n",
    "# plotting original sinus\n",
    "ax.plot(np.arange(0.5, 1.8, 0.001), [np.sin(i) for i in np.arange(0.5, 1.8, 0.001)])\n",
    "\n",
    "# set plotting limits\n",
    "ax.set_xlim(0.5, 1.8)\n",
    "ax.set_ylim(0, 1.5)\n",
    "\n",
    "# visual additives\n",
    "ax.set_title(\"Sin graph from pi/4 to pi/2 \")\n",
    "ax.set_xlabel(\"x\")\n",
    "ax.set_ylabel(\"Sin(x)\")\n",
    "plt.show()"
   ]
  },
  {
   "cell_type": "markdown",
   "metadata": {},
   "source": [
    "Also as we increase the number of subintegrals, we will get a more better approximation. The numerical approximatin of computing a sin integral in a python program is shown below. In this we will start from 4 subintervals then increase the them till 100 to see how the approximation become closer to the real value.\n"
   ]
  },
  {
   "cell_type": "code",
   "execution_count": null,
   "metadata": {},
   "outputs": [],
   "source": [
    "def sin_area(x1, x2):\n",
    "    x1 = np.deg2rad(x1)\n",
    "    x2 = np.deg2rad(x2)\n",
    "    return (np.sin(x2) + np.sin(x1)) * (x2 - x1)/2\n",
    "\n",
    "print(\"The analytical sine integral value from 0 to pi\")\n",
    "\n",
    "for num_of_points in [4, 10, 20, 50, 100]:\n",
    "    x = np.linspace(0,180,num_of_points + 1)\n",
    "\n",
    "    area_int = 0\n",
    "    for x1,x2 in zip(x[:-1],x[1:]):\n",
    "        area_int += sin_area(x1,x2)\n",
    "\n",
    "    print(\"The approxmiation of sine integral for {} is {}\".format(num_of_points, area_int))"
   ]
  }
 ],
 "metadata": {
  "kernelspec": {
   "display_name": "Python 3 (ipykernel)",
   "language": "python",
   "name": "python3"
  },
  "language_info": {
   "codemirror_mode": {
    "name": "ipython",
    "version": 3
   },
   "file_extension": ".py",
   "mimetype": "text/x-python",
   "name": "python",
   "nbconvert_exporter": "python",
   "pygments_lexer": "ipython3",
   "version": "3.11.9"
  }
 },
 "nbformat": 4,
 "nbformat_minor": 4
}
