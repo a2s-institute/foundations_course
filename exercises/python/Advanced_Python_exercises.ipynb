{
 "cells": [
  {
   "cell_type": "markdown",
   "metadata": {
    "nbgrader": {
     "grade": false,
     "grade_id": "cell-ddd4aed577578d52",
     "locked": true,
     "schema_version": 1,
     "solution": false
    }
   },
   "source": [
    "# Python exercises\n",
    "\n",
    "## Briefing\n",
    "\n",
    "The goal of this assignment is for you to get used to python and the advantages of using libraries like numPy and matplotlib. Feel free to experiment with the libraries any way you like(you should have already done this by now). One of the main benefits of using numPy is to reduce the usage of loops, so work on that(minimize using loops as much as you can). \n",
    "\n",
    "Once you get the hang of doing that, understanding the language and the reducing the complexity of each problem becomes so much easier !  \n",
    "\n",
    "Most of the questions can be completed using functions/classes. This way, you can use different data as inputs and hence get different results. I suggest that you dont just work toward the assignment for the sake of completion, but to test your inquisitivity and expand your knowledge.\n",
    "\n",
    "I have not imported any of the libraries for you. Some of the libraries that you will be using in this notebook will be math, numpy, matplotlib and csv. Figure out how they are used and the benefits of using these libraries.\n",
    "\n",
    "There are <b>ONLY</b> 30 questions and some of them are super easy to do and some require you think about the question a little. Before you ask me a question for help, research about the your question and then tell me what you found and why you think does not work. I do not think the questions are too complicated to be solved. You just need to spend enough time on them.  \n",
    "\n",
    "Submission for this assignment is on Sunday, 10th September by midnight. To submit, <b>either print the page</b> in pdf format or you can also use the <b>'download as'</b> option in the <b>'file'</b> menu(you may face some errors). If you complete it before that time, let me know and maybe I can give you more work to do :P\n",
    "\n",
    "### Happy programming !"
   ]
  },
  {
   "cell_type": "code",
   "execution_count": 131,
   "metadata": {},
   "outputs": [
    {
     "data": {
      "text/plain": [
       "'3.7.6 (default, Jan  8 2020, 20:23:39) [MSC v.1916 64 bit (AMD64)]'"
      ]
     },
     "execution_count": 131,
     "metadata": {},
     "output_type": "execute_result"
    }
   ],
   "source": [
    "# A good practice is to import all the libraries \n",
    "# at the start of the notebook rather than \n",
    "# at a specific cell somwhere at the bottom\n",
    "import math\n",
    "import collections\n",
    "import itertools\n",
    "import re\n",
    "import random\n",
    "import numpy as np\n",
    "import functools\n",
    "import unittest\n",
    "import sys\n",
    "import timeit\n",
    "try:\n",
    "    from StringIO import StringIO\n",
    "except ImportError:\n",
    "    from io import StringIO\n",
    "sys.version # Verify Python version"
   ]
  },
  {
   "cell_type": "code",
   "execution_count": 2,
   "metadata": {},
   "outputs": [],
   "source": [
    "# Helper functions\n",
    "\n",
    "def info(name, a):\n",
    "    print(f\"{name} has dim {a.ndim}, shape {a.shape}, size {a.size}, and dtype {a.dtype}:\")\n",
    "    print(a)\n",
    "\n",
    "def print_list(p_list, sep=\",\"):\n",
    "    print(sep.join(map(str, p_list)))"
   ]
  },
  {
   "cell_type": "markdown",
   "metadata": {
    "nbgrader": {
     "grade": false,
     "grade_id": "cell-b659ae89eafaf165",
     "locked": true,
     "schema_version": 1,
     "solution": false
    }
   },
   "source": [
    "## 1\n",
    "\n",
    "Write a program which will find all such numbers which are divisible by 7 but are not a multiple of 5,\n",
    "between 2000 and 3200 (both included).\n",
    "The numbers obtained should be printed in a comma-separated sequence on a single line."
   ]
  },
  {
   "cell_type": "code",
   "execution_count": 3,
   "metadata": {},
   "outputs": [
    {
     "name": "stdout",
     "output_type": "stream",
     "text": [
      "2000,2001,2002,2003,2004,2005,2006,2007,2008,2009,2010,2011,2012,2013,2014,2015,2016,2017,2018,2019,2020,2021,2022,2023,2024,2025,2026,2027,2028,2029,2030,2031,2032,2033,2034,2035,2036,2037,2038,2039,2040,2041,2042,2043,2044,2045,2046,2047,2048,2049,2050,2051,2052,2053,2054,2055,2056,2057,2058,2059,2060,2061,2062,2063,2064,2065,2066,2067,2068,2069,2070,2071,2072,2073,2074,2075,2076,2077,2078,2079,2080,2081,2082,2083,2084,2085,2086,2087,2088,2089,2090,2091,2092,2093,2094,2095,2096,2097,2098,2099,2100,2101,2102,2103,2104,2105,2106,2107,2108,2109,2110,2111,2112,2113,2114,2115,2116,2117,2118,2119,2120,2121,2122,2123,2124,2125,2126,2127,2128,2129,2130,2131,2132,2133,2134,2135,2136,2137,2138,2139,2140,2141,2142,2143,2144,2145,2146,2147,2148,2149,2150,2151,2152,2153,2154,2155,2156,2157,2158,2159,2160,2161,2162,2163,2164,2165,2166,2167,2168,2169,2170,2171,2172,2173,2174,2175,2176,2177,2178,2179,2180,2181,2182,2183,2184,2185,2186,2187,2188,2189,2190,2191,2192,2193,2194,2195,2196,2197,2198,2199,2200,2201,2202,2203,2204,2205,2206,2207,2208,2209,2210,2211,2212,2213,2214,2215,2216,2217,2218,2219,2220,2221,2222,2223,2224,2225,2226,2227,2228,2229,2230,2231,2232,2233,2234,2235,2236,2237,2238,2239,2240,2241,2242,2243,2244,2245,2246,2247,2248,2249,2250,2251,2252,2253,2254,2255,2256,2257,2258,2259,2260,2261,2262,2263,2264,2265,2266,2267,2268,2269,2270,2271,2272,2273,2274,2275,2276,2277,2278,2279,2280,2281,2282,2283,2284,2285,2286,2287,2288,2289,2290,2291,2292,2293,2294,2295,2296,2297,2298,2299,2300,2301,2302,2303,2304,2305,2306,2307,2308,2309,2310,2311,2312,2313,2314,2315,2316,2317,2318,2319,2320,2321,2322,2323,2324,2325,2326,2327,2328,2329,2330,2331,2332,2333,2334,2335,2336,2337,2338,2339,2340,2341,2342,2343,2344,2345,2346,2347,2348,2349,2350,2351,2352,2353,2354,2355,2356,2357,2358,2359,2360,2361,2362,2363,2364,2365,2366,2367,2368,2369,2370,2371,2372,2373,2374,2375,2376,2377,2378,2379,2380,2381,2382,2383,2384,2385,2386,2387,2388,2389,2390,2391,2392,2393,2394,2395,2396,2397,2398,2399,2400,2401,2402,2403,2404,2405,2406,2407,2408,2409,2410,2411,2412,2413,2414,2415,2416,2417,2418,2419,2420,2421,2422,2423,2424,2425,2426,2427,2428,2429,2430,2431,2432,2433,2434,2435,2436,2437,2438,2439,2440,2441,2442,2443,2444,2445,2446,2447,2448,2449,2450,2451,2452,2453,2454,2455,2456,2457,2458,2459,2460,2461,2462,2463,2464,2465,2466,2467,2468,2469,2470,2471,2472,2473,2474,2475,2476,2477,2478,2479,2480,2481,2482,2483,2484,2485,2486,2487,2488,2489,2490,2491,2492,2493,2494,2495,2496,2497,2498,2499,2500,2501,2502,2503,2504,2505,2506,2507,2508,2509,2510,2511,2512,2513,2514,2515,2516,2517,2518,2519,2520,2521,2522,2523,2524,2525,2526,2527,2528,2529,2530,2531,2532,2533,2534,2535,2536,2537,2538,2539,2540,2541,2542,2543,2544,2545,2546,2547,2548,2549,2550,2551,2552,2553,2554,2555,2556,2557,2558,2559,2560,2561,2562,2563,2564,2565,2566,2567,2568,2569,2570,2571,2572,2573,2574,2575,2576,2577,2578,2579,2580,2581,2582,2583,2584,2585,2586,2587,2588,2589,2590,2591,2592,2593,2594,2595,2596,2597,2598,2599,2600,2601,2602,2603,2604,2605,2606,2607,2608,2609,2610,2611,2612,2613,2614,2615,2616,2617,2618,2619,2620,2621,2622,2623,2624,2625,2626,2627,2628,2629,2630,2631,2632,2633,2634,2635,2636,2637,2638,2639,2640,2641,2642,2643,2644,2645,2646,2647,2648,2649,2650,2651,2652,2653,2654,2655,2656,2657,2658,2659,2660,2661,2662,2663,2664,2665,2666,2667,2668,2669,2670,2671,2672,2673,2674,2675,2676,2677,2678,2679,2680,2681,2682,2683,2684,2685,2686,2687,2688,2689,2690,2691,2692,2693,2694,2695,2696,2697,2698,2699,2700,2701,2702,2703,2704,2705,2706,2707,2708,2709,2710,2711,2712,2713,2714,2715,2716,2717,2718,2719,2720,2721,2722,2723,2724,2725,2726,2727,2728,2729,2730,2731,2732,2733,2734,2735,2736,2737,2738,2739,2740,2741,2742,2743,2744,2745,2746,2747,2748,2749,2750,2751,2752,2753,2754,2755,2756,2757,2758,2759,2760,2761,2762,2763,2764,2765,2766,2767,2768,2769,2770,2771,2772,2773,2774,2775,2776,2777,2778,2779,2780,2781,2782,2783,2784,2785,2786,2787,2788,2789,2790,2791,2792,2793,2794,2795,2796,2797,2798,2799,2800,2801,2802,2803,2804,2805,2806,2807,2808,2809,2810,2811,2812,2813,2814,2815,2816,2817,2818,2819,2820,2821,2822,2823,2824,2825,2826,2827,2828,2829,2830,2831,2832,2833,2834,2835,2836,2837,2838,2839,2840,2841,2842,2843,2844,2845,2846,2847,2848,2849,2850,2851,2852,2853,2854,2855,2856,2857,2858,2859,2860,2861,2862,2863,2864,2865,2866,2867,2868,2869,2870,2871,2872,2873,2874,2875,2876,2877,2878,2879,2880,2881,2882,2883,2884,2885,2886,2887,2888,2889,2890,2891,2892,2893,2894,2895,2896,2897,2898,2899,2900,2901,2902,2903,2904,2905,2906,2907,2908,2909,2910,2911,2912,2913,2914,2915,2916,2917,2918,2919,2920,2921,2922,2923,2924,2925,2926,2927,2928,2929,2930,2931,2932,2933,2934,2935,2936,2937,2938,2939,2940,2941,2942,2943,2944,2945,2946,2947,2948,2949,2950,2951,2952,2953,2954,2955,2956,2957,2958,2959,2960,2961,2962,2963,2964,2965,2966,2967,2968,2969,2970,2971,2972,2973,2974,2975,2976,2977,2978,2979,2980,2981,2982,2983,2984,2985,2986,2987,2988,2989,2990,2991,2992,2993,2994,2995,2996,2997,2998,2999,3000,3001,3002,3003,3004,3005,3006,3007,3008,3009,3010,3011,3012,3013,3014,3015,3016,3017,3018,3019,3020,3021,3022,3023,3024,3025,3026,3027,3028,3029,3030,3031,3032,3033,3034,3035,3036,3037,3038,3039,3040,3041,3042,3043,3044,3045,3046,3047,3048,3049,3050,3051,3052,3053,3054,3055,3056,3057,3058,3059,3060,3061,3062,3063,3064,3065,3066,3067,3068,3069,3070,3071,3072,3073,3074,3075,3076,3077,3078,3079,3080,3081,3082,3083,3084,3085,3086,3087,3088,3089,3090,3091,3092,3093,3094,3095,3096,3097,3098,3099,3100,3101,3102,3103,3104,3105,3106,3107,3108,3109,3110,3111,3112,3113,3114,3115,3116,3117,3118,3119,3120,3121,3122,3123,3124,3125,3126,3127,3128,3129,3130,3131,3132,3133,3134,3135,3136,3137,3138,3139,3140,3141,3142,3143,3144,3145,3146,3147,3148,3149,3150,3151,3152,3153,3154,3155,3156,3157,3158,3159,3160,3161,3162,3163,3164,3165,3166,3167,3168,3169,3170,3171,3172,3173,3174,3175,3176,3177,3178,3179,3180,3181,3182,3183,3184,3185,3186,3187,3188,3189,3190,3191,3192,3193,3194,3195,3196,3197,3198,3199,3200\n"
     ]
    }
   ],
   "source": [
    "result = np.arange(2000, 3200+1)\n",
    "print_list(result.tolist())"
   ]
  },
  {
   "cell_type": "markdown",
   "metadata": {
    "nbgrader": {
     "grade": false,
     "grade_id": "cell-44c2df2aa789515d",
     "locked": true,
     "schema_version": 1,
     "solution": false
    }
   },
   "source": [
    "## 2\n",
    "Write a program which can compute the factorial of a given numbers.\n",
    "The results should be printed in a comma-separated sequence on a single line.\n",
    "Suppose the following input is supplied to the program:\n",
    "8\n",
    "Then, the output should be:\n",
    "40320"
   ]
  },
  {
   "cell_type": "code",
   "execution_count": 4,
   "metadata": {},
   "outputs": [
    {
     "name": "stdout",
     "output_type": "stream",
     "text": [
      "Enter number: 5\n",
      "Factorial:  120\n"
     ]
    }
   ],
   "source": [
    "def factorial(num):\n",
    "    return functools.reduce(lambda x, y: x*y, range(1, num + 1), 1)\n",
    "\n",
    "\n",
    "num = input(\"Enter number: \")\n",
    "result = factorial(int(num))\n",
    "print(\"Factorial: \", result)"
   ]
  },
  {
   "cell_type": "markdown",
   "metadata": {
    "nbgrader": {
     "grade": false,
     "grade_id": "cell-3cf5d36fc09b77fc",
     "locked": true,
     "schema_version": 1,
     "solution": false
    }
   },
   "source": [
    "## 3\n",
    "With a given integral number n, write a program to generate a dictionary that contains (i, i*i) such that is an integral number between 1 and n (both included). and then the program should print the dictionary.\n",
    "Suppose the following input is supplied to the program:\n",
    "8\n",
    "Then, the output should be:\n",
    "{1: 1, 2: 4, 3: 9, 4: 16, 5: 25, 6: 36, 7: 49, 8: 64}\n"
   ]
  },
  {
   "cell_type": "code",
   "execution_count": 5,
   "metadata": {},
   "outputs": [
    {
     "name": "stdout",
     "output_type": "stream",
     "text": [
      "Enter number: 8\n",
      "{1: 1, 2: 4, 3: 9, 4: 16, 5: 25, 6: 36, 7: 49, 8: 64}\n"
     ]
    }
   ],
   "source": [
    "num = int(input(\"Enter number: \"))\n",
    "arr = np.arange(1, num+1)\n",
    "result = dict(np.stack((arr, arr ** 2), axis=1))\n",
    "print(result)"
   ]
  },
  {
   "cell_type": "markdown",
   "metadata": {
    "nbgrader": {
     "grade": false,
     "grade_id": "cell-ac22946d2b2ba722",
     "locked": true,
     "schema_version": 1,
     "solution": false
    }
   },
   "source": [
    "## 4\n",
    "Define a class which has at least two methods:\n",
    "getString: to get a string from console input\n",
    "printString: to print the string in upper case.\n",
    "Also please include simple test function to test the class methods.\n"
   ]
  },
  {
   "cell_type": "code",
   "execution_count": 6,
   "metadata": {},
   "outputs": [
    {
     "name": "stderr",
     "output_type": "stream",
     "text": [
      "testException (__main__.TestStringUpper) ... ok\n",
      "testPrint (__main__.TestStringUpper) ... ok\n",
      "\n",
      "----------------------------------------------------------------------\n",
      "Ran 2 tests in 0.005s\n",
      "\n",
      "OK\n"
     ]
    },
    {
     "data": {
      "text/plain": [
       "<unittest.main.TestProgram at 0x19f4d0be588>"
      ]
     },
     "execution_count": 6,
     "metadata": {},
     "output_type": "execute_result"
    }
   ],
   "source": [
    "class StringUpper:\n",
    "    \n",
    "    def __init__(self):\n",
    "        self.__p_string = None\n",
    "        \n",
    "    \n",
    "    def getString(self):\n",
    "        self.__p_string = input(\"Enter String: \")\n",
    "        \n",
    "        \n",
    "    def printString(self):\n",
    "        \n",
    "        if not self.__p_string:\n",
    "            raise RuntimeError(\"String has not been entered\")\n",
    "            \n",
    "        print(\"Modified String:\", self.__p_string.strip().upper())\n",
    "        \n",
    "        \n",
    "class TestStringUpper(unittest.TestCase):\n",
    "    \n",
    "    def testException(self):\n",
    "        \n",
    "        with self.assertRaises(RuntimeError): \n",
    "            StringUpper().printString()\n",
    "    \n",
    "    \n",
    "    def testPrint(self):\n",
    "        \n",
    "        original_input = __builtins__.input\n",
    "        __builtins__.input = lambda _: \"hochschule\"\n",
    "        \n",
    "        captured_print = StringIO()\n",
    "        original_output = sys.stdout\n",
    "        sys.stdout = captured_print\n",
    "        \n",
    "        su = StringUpper()\n",
    "        su.getString()\n",
    "        su.printString()\n",
    "        \n",
    "        \n",
    "        self.assertEqual(captured_print.getvalue(), \"Modified String: HOCHSCHULE\\n\", \"Expected string to be uppercased\")\n",
    "        \n",
    "        __builtins__.input = original_input\n",
    "        sys.stdout = original_output\n",
    "\n",
    "\n",
    "        \n",
    "    \n",
    "    \n",
    "unittest.main(argv=[''], verbosity=2, exit=False)"
   ]
  },
  {
   "cell_type": "markdown",
   "metadata": {
    "nbgrader": {
     "grade": false,
     "grade_id": "cell-59366d167ad708b2",
     "locked": true,
     "schema_version": 1,
     "solution": false
    }
   },
   "source": [
    "## 5\n",
    "Write a program that calculates and prints the value according to the given formula:\n",
    "Q = Square root of [(2 * C * D)/H]\n",
    "Following are the fixed values of C and H:\n",
    "C is 50. H is 30.\n",
    "D is the variable whose values should be input to your program in a comma-separated sequence.\n",
    "Example\n",
    "Let us assume the following comma separated input sequence is given to the program:\n",
    "100,150,180\n",
    "The output of the program should be:\n",
    "18,22,24"
   ]
  },
  {
   "cell_type": "code",
   "execution_count": 7,
   "metadata": {},
   "outputs": [
    {
     "name": "stdout",
     "output_type": "stream",
     "text": [
      "Enter Ds: 100,150,180\n",
      "Q has dim 1, shape (3,), size 3, and dtype int32:\n",
      "[18 22 24]\n",
      "18,22,24\n"
     ]
    }
   ],
   "source": [
    "in_Ds = input(\"Enter Ds: \")\n",
    "Ds = np.array(re.split(\"\\s*,\\s*\", in_Ds.strip()), dtype=np.float)\n",
    "C, H = 50, 30\n",
    "Qs = np.sqrt((2*C*Ds)/H).astype(np.int)\n",
    "info(\"Q\", Qs)\n",
    "print_list(Qs.tolist())"
   ]
  },
  {
   "cell_type": "markdown",
   "metadata": {
    "nbgrader": {
     "grade": false,
     "grade_id": "cell-19d67c7623e3467b",
     "locked": true,
     "schema_version": 1,
     "solution": false
    }
   },
   "source": [
    "## 6\n",
    "Write a program which takes 2 digits, X,Y as input and generates a 2-dimensional array. The element value in the i-th row and j-th column of the array should be i*j.\n",
    "\n",
    "Note: i=0,1.., X-1; j=0,1,¡­Y-1. USE NUMPY.\n",
    "Example\n",
    "\n",
    "Suppose the following inputs are given to the program:\n",
    "\n",
    "3,5\n",
    "\n",
    "Then, the output of the program should be:\n",
    "\n",
    "[[0, 0, 0, 0, 0], [0, 1, 2, 3, 4], [0, 2, 4, 6, 8]] \n"
   ]
  },
  {
   "cell_type": "code",
   "execution_count": 8,
   "metadata": {},
   "outputs": [
    {
     "name": "stdout",
     "output_type": "stream",
     "text": [
      "Enter X, Y: 3,5\n",
      "[[0, 0, 0, 0, 0], [0, 1, 2, 3, 4], [0, 2, 4, 6, 8]]\n"
     ]
    }
   ],
   "source": [
    "in_XY = input(\"Enter X, Y: \")\n",
    "X, Y = map(int, re.split(\"\\s*,\\s*\", in_XY.strip()))\n",
    "result = np.arange(X).reshape((X,1)) * np.arange(Y).reshape((1,Y))\n",
    "print(result.tolist())"
   ]
  },
  {
   "cell_type": "markdown",
   "metadata": {
    "nbgrader": {
     "grade": false,
     "grade_id": "cell-c7060975cc5b846d",
     "locked": true,
     "schema_version": 1,
     "solution": false
    }
   },
   "source": [
    "## 7\n",
    "Write a program that takes a comma separated sequence of words as input and prints the words in a comma-separated sequence after sorting them alphabetically.\n",
    "\n",
    "Suppose the following input is supplied to the program(<b>you do not have to use raw_input</b>):\n",
    "\n",
    "without,hello,bag,world\n",
    "\n",
    "Then, the output should be:\n",
    "\n",
    "bag,hello,without,world"
   ]
  },
  {
   "cell_type": "code",
   "execution_count": 9,
   "metadata": {},
   "outputs": [
    {
     "name": "stdout",
     "output_type": "stream",
     "text": [
      "Enter words: without,hello,bag,world\n",
      "bag,hello,without,world\n"
     ]
    }
   ],
   "source": [
    "in_words = input(\"Enter words: \")\n",
    "words = sorted(re.split(\"\\s*,\\s*\", in_words.strip()))\n",
    "print_list(words)"
   ]
  },
  {
   "cell_type": "markdown",
   "metadata": {
    "nbgrader": {
     "grade": false,
     "grade_id": "cell-b7e1b304b664ff9a",
     "locked": true,
     "schema_version": 1,
     "solution": false
    }
   },
   "source": [
    "## 8\n",
    "\n",
    "Write a program that accepts a sequence of whitespace separated words as input and prints the words after removing all duplicate words and sorting them alphanumerically.\n",
    "\n",
    "Use the following input:\n",
    "\n",
    "hello world and practice makes perfect and hello world again\n",
    "\n",
    "Then, the output should be:\n",
    "\n",
    "again and hello makes perfect practice world\n"
   ]
  },
  {
   "cell_type": "code",
   "execution_count": 75,
   "metadata": {},
   "outputs": [
    {
     "name": "stdout",
     "output_type": "stream",
     "text": [
      "Enter words: hello world and practice makes perfect and hello world again\n",
      "again and hello makes perfect practice world\n"
     ]
    }
   ],
   "source": [
    "in_words = input(\"Enter words: \")\n",
    "words = np.unique(re.split(\"\\s+\", in_words.strip()))\n",
    "print_list(words.tolist(), sep=\" \")\n"
   ]
  },
  {
   "cell_type": "markdown",
   "metadata": {
    "nbgrader": {
     "grade": false,
     "grade_id": "cell-2ded77f5fc992d2b",
     "locked": true,
     "schema_version": 1,
     "solution": false
    }
   },
   "source": [
    "## 9\n",
    "Write a program which takes a sequence of comma separated 4 digit binary numbers as an input and then check whether they are divisible by 5 or not. The numbers that are divisible by 5 are to be printed in a comma separated sequence.\n",
    "\n",
    "Input:\n",
    "0100,0011,1010,1001\n",
    "\n",
    "Then the output should be:\n",
    "1010\n"
   ]
  },
  {
   "cell_type": "code",
   "execution_count": 84,
   "metadata": {},
   "outputs": [
    {
     "name": "stdout",
     "output_type": "stream",
     "text": [
      "Enter nums: 0100,0011,1010,1001\n",
      "1010\n"
     ]
    }
   ],
   "source": [
    "in_nums = input(\"Enter nums: \")\n",
    "nums = re.split(\"\\s*,\\s*\", in_nums.strip())\n",
    "nums = [x for x in nums if int(x,2) % 5 == 0]\n",
    "print_list(nums)"
   ]
  },
  {
   "cell_type": "markdown",
   "metadata": {
    "nbgrader": {
     "grade": false,
     "grade_id": "cell-63b7931ddcbb00a9",
     "locked": true,
     "schema_version": 1,
     "solution": false
    }
   },
   "source": [
    "## 10\n",
    "Write a program, which will find all such numbers between 1000 and 3000 (both included) such that each digit of the number is an even number. Print all the numbers as a list.\n"
   ]
  },
  {
   "cell_type": "code",
   "execution_count": 68,
   "metadata": {},
   "outputs": [
    {
     "name": "stdout",
     "output_type": "stream",
     "text": [
      "[2000, 2002, 2004, 2006, 2008, 2020, 2022, 2024, 2026, 2028, 2040, 2042, 2044, 2046, 2048, 2060, 2062, 2064, 2066, 2068, 2080, 2082, 2084, 2086, 2088, 2200, 2202, 2204, 2206, 2208, 2220, 2222, 2224, 2226, 2228, 2240, 2242, 2244, 2246, 2248, 2260, 2262, 2264, 2266, 2268, 2280, 2282, 2284, 2286, 2288, 2400, 2402, 2404, 2406, 2408, 2420, 2422, 2424, 2426, 2428, 2440, 2442, 2444, 2446, 2448, 2460, 2462, 2464, 2466, 2468, 2480, 2482, 2484, 2486, 2488, 2600, 2602, 2604, 2606, 2608, 2620, 2622, 2624, 2626, 2628, 2640, 2642, 2644, 2646, 2648, 2660, 2662, 2664, 2666, 2668, 2680, 2682, 2684, 2686, 2688, 2800, 2802, 2804, 2806, 2808, 2820, 2822, 2824, 2826, 2828, 2840, 2842, 2844, 2846, 2848, 2860, 2862, 2864, 2866, 2868, 2880, 2882, 2884, 2886, 2888]\n"
     ]
    }
   ],
   "source": [
    "def is_all_digits_even(num):\n",
    "#     num_str = str(num)\n",
    "#     return all(int(x)%2==0 for x in num_str)\n",
    "    return np.all(np.fromiter(str(num), np.int) % 2 == 0)\n",
    "    \n",
    "    \n",
    "def find_num_even_digits(p_min, p_max):\n",
    "#     return (x for x in range(p_min, p_max) if is_all_digits_even(x))\n",
    "    interval = np.arange(p_min, p_max)\n",
    "    return interval[np.vectorize(is_all_digits_even)(interval)]\n",
    "\n",
    "\n",
    "print(list(find_num_even_digits(1000,3001)))"
   ]
  },
  {
   "cell_type": "markdown",
   "metadata": {
    "nbgrader": {
     "grade": false,
     "grade_id": "cell-2f7b19412a4295bb",
     "locked": true,
     "schema_version": 1,
     "solution": false
    }
   },
   "source": [
    "## 11\n",
    "Write a program that uses a sentence and calculates the number of letters and digits.\n",
    "\n",
    "Example input:\n",
    "hello world! 123\n",
    "\n",
    "Then, the output should be:\n",
    "\n",
    "LETTERS 10\n",
    "\n",
    "DIGITS 3\n"
   ]
  },
  {
   "cell_type": "code",
   "execution_count": 86,
   "metadata": {},
   "outputs": [
    {
     "name": "stdout",
     "output_type": "stream",
     "text": [
      "LETTERS  10\n",
      "DIGITS  3\n"
     ]
    }
   ],
   "source": [
    "sentence = \"hello world! 123\"\n",
    "\n",
    "letters_count = sum(c.isalpha() for c in sentence)\n",
    "digits_count = sum(c.isdigit() for c in sentence)\n",
    "\n",
    "print(\"LETTERS \", letters_count)\n",
    "print(\"DIGITS \", digits_count)"
   ]
  },
  {
   "cell_type": "markdown",
   "metadata": {
    "nbgrader": {
     "grade": false,
     "grade_id": "cell-30decddffc4f2107",
     "locked": true,
     "schema_version": 1,
     "solution": false
    }
   },
   "source": [
    "## 12\n",
    "Write a program that is input a sentence and calculates the number of upper case letters and lower case letters.\n",
    "\n",
    "Sample input:\n",
    "Hello world!\n",
    "\n",
    "Then, the output should be:\n",
    "\n",
    "UPPER CASE 1\n",
    "\n",
    "LOWER CASE 9"
   ]
  },
  {
   "cell_type": "code",
   "execution_count": 91,
   "metadata": {},
   "outputs": [
    {
     "name": "stdout",
     "output_type": "stream",
     "text": [
      "UPPER CASE  1\n",
      "LOWER CASE  9\n"
     ]
    }
   ],
   "source": [
    "sentence = \"Hello world!\"\n",
    "\n",
    "uppers_count = sum(c.isupper() for c in sentence)\n",
    "lowers_count = sum(c.islower() for c in sentence)\n",
    "\n",
    "print(\"UPPER CASE \", uppers_count)\n",
    "print(\"LOWER CASE \", lowers_count)"
   ]
  },
  {
   "cell_type": "markdown",
   "metadata": {
    "nbgrader": {
     "grade": false,
     "grade_id": "cell-3f25c878be4e8e43",
     "locked": true,
     "schema_version": 1,
     "solution": false
    }
   },
   "source": [
    "## 13\n",
    "Write a program which accepts a string from console and print the characters that have even indexes.\n",
    "\n",
    "Sample input: H1e2l3l4o5w6o7r8l9d\n",
    "\n",
    "Then, the output of the program should be:\n",
    "\n",
    "Helloworld\n"
   ]
  },
  {
   "cell_type": "code",
   "execution_count": 92,
   "metadata": {},
   "outputs": [
    {
     "name": "stdout",
     "output_type": "stream",
     "text": [
      "H1e2l3l4o5w6o7r8l9d\n",
      "Helloworld\n"
     ]
    }
   ],
   "source": [
    "in_string = input()\n",
    "print(in_string[::2])"
   ]
  },
  {
   "cell_type": "markdown",
   "metadata": {
    "nbgrader": {
     "grade": false,
     "grade_id": "cell-7a17a394c74be0ee",
     "locked": true,
     "schema_version": 1,
     "solution": false
    }
   },
   "source": [
    "## 14\n",
    "Write a program which count and print the numbers of each character in a string.\n",
    "\n",
    "Sample input: abcdefgabc\n",
    "\n",
    "Then, the output of the program should be:\n",
    "\n",
    "a,2\n",
    "\n",
    "c,2\n",
    "\n",
    "b,2\n",
    "\n",
    "e,1\n",
    "\n",
    "d,1\n",
    "\n",
    "g,1\n",
    "\n",
    "f,1"
   ]
  },
  {
   "cell_type": "code",
   "execution_count": 101,
   "metadata": {},
   "outputs": [
    {
     "name": "stdout",
     "output_type": "stream",
     "text": [
      "a,2\n",
      "b,2\n",
      "c,2\n",
      "d,1\n",
      "e,1\n",
      "f,1\n",
      "g,1\n"
     ]
    }
   ],
   "source": [
    "in_string = \"abcdefgabc\"\n",
    "result = collections.Counter(in_string)\n",
    "for k,v in result.items():\n",
    "    print(\"{},{}\".format(k,v))"
   ]
  },
  {
   "cell_type": "markdown",
   "metadata": {
    "nbgrader": {
     "grade": false,
     "grade_id": "cell-d739efd54735d910",
     "locked": true,
     "schema_version": 1,
     "solution": false
    }
   },
   "source": [
    "## 15\n",
    "Using the list as input \n",
    "\n",
    "[12,24,35,24,88,120,155,88,120,155]\n",
    "\n",
    "write a program to print this list after removing all duplicate values with original order reserved"
   ]
  },
  {
   "cell_type": "code",
   "execution_count": 110,
   "metadata": {},
   "outputs": [
    {
     "name": "stdout",
     "output_type": "stream",
     "text": [
      "12 24 35 88 120 155\n"
     ]
    }
   ],
   "source": [
    "def remove_dup(sequence):\n",
    "    seen = set()\n",
    "    return (x for x in sequence if not (x in seen or seen.add(x)))\n",
    "            \n",
    "\n",
    "in_list = [12,24,35,24,88,120,155,88,120,155]\n",
    "print(*remove_dup(in_list))"
   ]
  },
  {
   "cell_type": "markdown",
   "metadata": {
    "nbgrader": {
     "grade": false,
     "grade_id": "cell-41b95de7ba372713",
     "locked": true,
     "schema_version": 1,
     "solution": false
    }
   },
   "source": [
    "## 16\n",
    "Using two lists as input, example, [1,3,6,78,35,55] and [12,24,35,24,88,120,155]\n",
    "\n",
    "Write a program to make a list whose elements are intersection of the above given lists.\n"
   ]
  },
  {
   "cell_type": "code",
   "execution_count": 112,
   "metadata": {},
   "outputs": [
    {
     "name": "stdout",
     "output_type": "stream",
     "text": [
      "35\n"
     ]
    }
   ],
   "source": [
    "list1 = [1,3,6,78,35,55]\n",
    "list2 = [12,24,35,24,88,120,155]\n",
    "print(*set(list1).intersection(list2))"
   ]
  },
  {
   "cell_type": "markdown",
   "metadata": {
    "nbgrader": {
     "grade": false,
     "grade_id": "cell-19092d4d73f643a9",
     "locked": true,
     "schema_version": 1,
     "solution": false
    }
   },
   "source": [
    "## 17\n",
    "By using the built in list functions, write a program to print the list(10 elements) after removing a value from the list. Using the same list, write a program to print the list after removing the 1th,5th,7th numbers(<b>not indices</b>).\n",
    "\n",
    "Example: \n",
    "\n",
    "List :[12,10,9,24,35,24,88,65,120,155]\n",
    "\n",
    "Remove : 24"
   ]
  },
  {
   "cell_type": "code",
   "execution_count": null,
   "metadata": {},
   "outputs": [],
   "source": []
  },
  {
   "cell_type": "markdown",
   "metadata": {
    "nbgrader": {
     "grade": false,
     "grade_id": "cell-b7efca8ef42db94c",
     "locked": true,
     "schema_version": 1,
     "solution": false
    }
   },
   "source": [
    "## 18\n",
    "\n",
    "Write a program to generate all sentences(that contain the subject, verb and object) where subject is in list [\"I\", \"You\"] and verb is in [\"can code in\", \"love\"] and the object is in [\"Foundation Course\",\"Java, C++, Python\"].\n",
    "\n",
    "Example sentence:\n",
    "\n",
    "I love Foundation Course"
   ]
  },
  {
   "cell_type": "code",
   "execution_count": 125,
   "metadata": {},
   "outputs": [
    {
     "name": "stdout",
     "output_type": "stream",
     "text": [
      "['I can code in Foundation Course', 'I can code in Java, C++, Python', 'I love Foundation Course', 'I love Java, C++, Python', 'You can code in Foundation Course', 'You can code in Java, C++, Python', 'You love Foundation Course', 'You love Java, C++, Python']\n"
     ]
    }
   ],
   "source": [
    "subjects = [\"I\", \"You\"]\n",
    "verbs = [\"can code in\", \"love\"] \n",
    "objects = [\"Foundation Course\",\"Java, C++, Python\"]\n",
    "result = [\" \".join(x) for x in itertools.product(subjects, verbs, objects)]\n",
    "print(result)"
   ]
  },
  {
   "cell_type": "markdown",
   "metadata": {
    "nbgrader": {
     "grade": false,
     "grade_id": "cell-1b198bf49aac28b0",
     "locked": true,
     "schema_version": 1,
     "solution": false
    }
   },
   "source": [
    "## 19\n",
    "\n",
    "Please write a program to shuffle and print the list [2,3,9,6,7,1,5,10,8].\n",
    "\n",
    "Hint: Check for a library that has the 'shuffle' function or if you can do it by yourself, well and good :D"
   ]
  },
  {
   "cell_type": "code",
   "execution_count": 130,
   "metadata": {},
   "outputs": [
    {
     "name": "stdout",
     "output_type": "stream",
     "text": [
      "[2, 8, 10, 1, 6, 5, 7, 3, 9]\n"
     ]
    }
   ],
   "source": [
    "in_list = [2,3,9,6,7,1,5,10,8]\n",
    "random.shuffle(in_list)\n",
    "print(in_list)"
   ]
  },
  {
   "cell_type": "markdown",
   "metadata": {
    "nbgrader": {
     "grade": false,
     "grade_id": "cell-86e528962b729d10",
     "locked": true,
     "schema_version": 1,
     "solution": false
    }
   },
   "source": [
    "## 20\n",
    "\n",
    "Write a program to print the running time of execution of \"1+1\" for 100 times.\n",
    "\n",
    "Hint: There are many ways to do this."
   ]
  },
  {
   "cell_type": "code",
   "execution_count": 133,
   "metadata": {},
   "outputs": [
    {
     "data": {
      "text/plain": [
       "0.0005267999995339778"
      ]
     },
     "execution_count": 133,
     "metadata": {},
     "output_type": "execute_result"
    }
   ],
   "source": [
    "timeit.timeit(\"for x in range(100): 1+1\", number=100) # in seconds"
   ]
  },
  {
   "cell_type": "markdown",
   "metadata": {
    "nbgrader": {
     "grade": false,
     "grade_id": "cell-848c2901441b1996",
     "locked": true,
     "schema_version": 1,
     "solution": false
    }
   },
   "source": [
    "## 21\n",
    "\n",
    "Write a program to randomly print an int between 2 and 20 inclusive of 20.\n",
    "\n",
    "Run your code, and check if 20 is generated atleast once.\n"
   ]
  },
  {
   "cell_type": "code",
   "execution_count": 136,
   "metadata": {},
   "outputs": [
    {
     "name": "stdout",
     "output_type": "stream",
     "text": [
      "20\n"
     ]
    }
   ],
   "source": [
    "print(random.randint(2, 21))"
   ]
  },
  {
   "cell_type": "markdown",
   "metadata": {
    "nbgrader": {
     "grade": false,
     "grade_id": "cell-236f42b6b3cbafa9",
     "locked": true,
     "schema_version": 1,
     "solution": false
    }
   },
   "source": [
    "## 22\n",
    "Write a program to randomly generate a list that contains numbers in a range in such a way that you print n even numbers followed by n odd numbers, in the range.\n",
    "\n",
    "Example:\n",
    "\n",
    "Range: 1-10\n",
    "\n",
    "n:2\n",
    "\n",
    "Output:\n",
    "\n",
    "[2,4,1,3,6,8,5,7,10,9]\n"
   ]
  },
  {
   "cell_type": "code",
   "execution_count": null,
   "metadata": {},
   "outputs": [],
   "source": []
  },
  {
   "cell_type": "markdown",
   "metadata": {
    "nbgrader": {
     "grade": false,
     "grade_id": "cell-b0e0f965950a60a9",
     "locked": true,
     "schema_version": 1,
     "solution": false
    }
   },
   "source": [
    "## 23\n",
    "A robot moves in a plane starting from the original point (0,0). The robot can move toward UP, DOWN, LEFT and RIGHT with given number of steps. The trace of robot movement is shown as the following:\n",
    "\n",
    "UP 5\n",
    "\n",
    "DOWN 3\n",
    "\n",
    "LEFT 3\n",
    "\n",
    "RIGHT 2\n",
    "\n",
    "The numbers after the direction are the number of steps moved by the robot. Write a program to compute the distance from current position after a sequence of movement and original point. If the distance is a float, then just print the nearest integer.\n",
    "Example:\n",
    "\n",
    "If the following tuples are given as input to the program:\n",
    "\n",
    "UP 5\n",
    "\n",
    "DOWN 3\n",
    "\n",
    "LEFT 3\n",
    "\n",
    "RIGHT 2\n",
    "\n",
    "Then, the output of the program should be:\n",
    "\n",
    "2\n",
    "\n",
    "<b> DO NOT USE raw_input </b>"
   ]
  },
  {
   "cell_type": "code",
   "execution_count": null,
   "metadata": {},
   "outputs": [],
   "source": []
  },
  {
   "cell_type": "markdown",
   "metadata": {
    "nbgrader": {
     "grade": false,
     "grade_id": "cell-91f49375b4030cf6",
     "locked": true,
     "schema_version": 1,
     "solution": false
    }
   },
   "source": [
    "## 25\n",
    "\n",
    "Write a program to sort the (name, age, height) tuples by ascending order where name is string, age and height are numbers. Make provision for the sort criteria, which is:\n",
    "* Sort based on name\n",
    "\n",
    "* Then sort based on age;\n",
    "\n",
    "* Then sort by score.\n",
    "\n",
    "The priority is that <b>name > age > score</b>\n",
    "\n",
    "If the following tuples are used as input to the program:\n",
    "\n",
    "Tom,19,80\n",
    "\n",
    "John,20,90\n",
    "\n",
    "Jony,17,91\n",
    "\n",
    "Jony,17,93\n",
    "\n",
    "Json,21,85\n",
    "\n",
    "Then, the output of the program should be:\n",
    "\n",
    "[('John', '20', '90'), ('Jony', '17', '91'), ('Jony', '17', '93'), ('Json', '21', '85'), ('Tom', '19', '80')]"
   ]
  },
  {
   "cell_type": "code",
   "execution_count": null,
   "metadata": {},
   "outputs": [],
   "source": []
  },
  {
   "cell_type": "markdown",
   "metadata": {
    "nbgrader": {
     "grade": false,
     "grade_id": "cell-ce15eae62f210311",
     "locked": true,
     "schema_version": 1,
     "solution": false
    }
   },
   "source": [
    "## 26\n",
    "Write a program that squares each odd number in a list.\n",
    "\n",
    "Suppose the following input is supplied to the program:\n",
    "\n",
    "1,2,3,4,5,6,7,8,9\n",
    "\n",
    "Then, the output should be:\n",
    "\n",
    "1,2,9,4,25,6,49,8,81"
   ]
  },
  {
   "cell_type": "code",
   "execution_count": null,
   "metadata": {},
   "outputs": [],
   "source": []
  },
  {
   "cell_type": "markdown",
   "metadata": {
    "nbgrader": {
     "grade": false,
     "grade_id": "cell-1a8e72501e50e454",
     "locked": true,
     "schema_version": 1,
     "solution": false
    }
   },
   "source": [
    "## 27\n",
    "\n",
    "Create two random arrays of equal length and plot the data as an XY graph(label the axes and try different plot styles?)."
   ]
  },
  {
   "cell_type": "code",
   "execution_count": null,
   "metadata": {},
   "outputs": [],
   "source": []
  },
  {
   "cell_type": "markdown",
   "metadata": {
    "nbgrader": {
     "grade": false,
     "grade_id": "cell-15158438fd2d9665",
     "locked": true,
     "schema_version": 1,
     "solution": false
    }
   },
   "source": [
    "## 28\n",
    "\n",
    "Plot a sine function with a dashed line"
   ]
  },
  {
   "cell_type": "code",
   "execution_count": null,
   "metadata": {},
   "outputs": [],
   "source": []
  },
  {
   "cell_type": "markdown",
   "metadata": {
    "nbgrader": {
     "grade": false,
     "grade_id": "cell-d05a3894c6c5208d",
     "locked": true,
     "schema_version": 1,
     "solution": false
    }
   },
   "source": [
    "## 29\n",
    "Plot an exp function"
   ]
  },
  {
   "cell_type": "code",
   "execution_count": null,
   "metadata": {},
   "outputs": [],
   "source": []
  },
  {
   "cell_type": "markdown",
   "metadata": {
    "nbgrader": {
     "grade": false,
     "grade_id": "cell-15959625ca72daa4",
     "locked": true,
     "schema_version": 1,
     "solution": false
    }
   },
   "source": [
    "## 30\n",
    "Load the csv file using Python and use the data in the csv file to plot a graph with the x axis containing the day of the month and the y axis containing the time worked out.\n",
    "\n",
    "The csv file is of the format:\n",
    "\"2012, Mar-01\", run, 2, 25\n",
    "\n",
    "\"2012, Mar-03\", bike, 10, 55\n",
    "\n",
    "\"2012, Mar-06\", bike, 5, 20\n",
    "\n",
    "Lets take the first row. We start with the date of the workout, the kind of workout, how many miles you travelled and how much time you spent in minutes\n",
    "\n",
    "You need to import the [exercise_data.csv](\\\\:workout.csv)\n",
    "\n",
    "Hints:\n",
    "\n",
    "* Import the file and check its content. Note that the content may be different on different rows, adjust your algorithm accordingly(<b>BETTER HINT ;) -> check for the letter that each row starts with</b>).\n",
    "\n",
    "* Extract the data you want from the csv according to the format that you want. Example: \"2012, Mar-01\" could be of type [datetime](https://docs.python.org/2/library/datetime.html)\n",
    "\n",
    "Your result should look a little like this:\n",
    "![Answer](result.png)"
   ]
  },
  {
   "cell_type": "code",
   "execution_count": null,
   "metadata": {},
   "outputs": [],
   "source": []
  }
 ],
 "metadata": {
  "celltoolbar": "Create Assignment",
  "kernelspec": {
   "display_name": "Python 3",
   "language": "python",
   "name": "python3"
  },
  "language_info": {
   "codemirror_mode": {
    "name": "ipython",
    "version": 3
   },
   "file_extension": ".py",
   "mimetype": "text/x-python",
   "name": "python",
   "nbconvert_exporter": "python",
   "pygments_lexer": "ipython3",
   "version": "3.7.6"
  }
 },
 "nbformat": 4,
 "nbformat_minor": 2
}
