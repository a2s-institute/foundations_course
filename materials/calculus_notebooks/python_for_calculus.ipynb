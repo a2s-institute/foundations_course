{
 "cells": [
  {
   "cell_type": "markdown",
   "metadata": {},
   "source": [
    "# Python For Calculus\n",
    "\n",
    "### Authors :  Michal Stolarz, Syed Musharraf Ali\n",
    "### Based on the notebook of : Santosh Muthireddy and Divin Devaiah\n",
    "\n",
    "# Requirements\n",
    "* Numpy\n",
    "* Sympy\n",
    "* Matplotlib\n",
    "* python3\n"
   ]
  },
  {
   "cell_type": "code",
   "execution_count": 1,
   "metadata": {},
   "outputs": [],
   "source": [
    "import numpy as np\n",
    "import sympy as sp\n",
    "from matplotlib import pyplot as plt"
   ]
  },
  {
   "cell_type": "markdown",
   "metadata": {},
   "source": [
    "# Slope and Derivatives"
   ]
  },
  {
   "cell_type": "code",
   "execution_count": 8,
   "metadata": {},
   "outputs": [
    {
     "data": {
      "text/latex": [
       "$\\displaystyle \\frac{1}{e^{r} + e^{4 - x}}$"
      ],
      "text/plain": [
       "1/(exp(r) + exp(4 - x))"
      ]
     },
     "execution_count": 8,
     "metadata": {},
     "output_type": "execute_result"
    }
   ],
   "source": [
    "#Generate data using linspace\n",
    "\n",
    "data_x = np.linspace(0,10,100)\n",
    "\n",
    "x = sp.Symbol('x')\n",
    "r = sp.Symbol('r')\n",
    "y = sp.Function(x)\n",
    "\n",
    "y = 1 / (sp.exp(r)+sp.exp(-(x-4)))\n",
    "y"
   ]
  },
  {
   "cell_type": "code",
   "execution_count": 9,
   "metadata": {},
   "outputs": [
    {
     "data": {
      "text/latex": [
       "$\\displaystyle 0.0363972634351655$"
      ],
      "text/plain": [
       "0.0363972634351655"
      ]
     },
     "execution_count": 9,
     "metadata": {},
     "output_type": "execute_result"
    }
   ],
   "source": [
    "y.evalf(subs={x:2,r:3})"
   ]
  },
  {
   "cell_type": "code",
   "execution_count": 10,
   "metadata": {},
   "outputs": [
    {
     "data": {
      "text/latex": [
       "$\\displaystyle \\frac{1}{1 + e}$"
      ],
      "text/plain": [
       "1/(1 + E)"
      ]
     },
     "execution_count": 10,
     "metadata": {},
     "output_type": "execute_result"
    }
   ],
   "source": [
    "y.subs([(x, 4), (r, 1)])"
   ]
  },
  {
   "cell_type": "code",
   "execution_count": 11,
   "metadata": {},
   "outputs": [
    {
     "data": {
      "text/plain": [
       "[2, 4, 6]"
      ]
     },
     "execution_count": 11,
     "metadata": {},
     "output_type": "execute_result"
    }
   ],
   "source": [
    "d = [1,2,3]\n",
    "# g = []\n",
    "# # g = 2*d\n",
    "# for i in range(len(d)):\n",
    "#     g.append(2*d[i])\n",
    "g = [2*elem for elem in d]\n",
    "g"
   ]
  },
  {
   "cell_type": "code",
   "execution_count": 15,
   "metadata": {},
   "outputs": [
    {
     "data": {
      "image/png": "[encoded data removed]",
      "text/plain": [
       "<Figure size 432x288 with 1 Axes>"
      ]
     },
     "metadata": {
      "needs_background": "light"
     },
     "output_type": "display_data"
    }
   ],
   "source": [
    "# Substitute x values in y function and plot\n",
    "data_y = [y.evalf(subs={x:i,r:1}) for i in data_x]\n",
    "\n",
    "plt.figure()\n",
    "plt.grid()\n",
    "plt.xlabel(\"Time\")\n",
    "plt.ylabel(\"Distace\")\n",
    "plt.plot(data_x,data_y,label=\"distance\")\n",
    "plt.legend()\n",
    "plt.show()"
   ]
  },
  {
   "cell_type": "code",
   "execution_count": 16,
   "metadata": {},
   "outputs": [
    {
     "data": {
      "text/latex": [
       "$\\displaystyle \\frac{e^{4 - x}}{\\left(e^{r} + e^{4 - x}\\right)^{2}}$"
      ],
      "text/plain": [
       "exp(4 - x)/(exp(r) + exp(4 - x))**2"
      ]
     },
     "execution_count": 16,
     "metadata": {},
     "output_type": "execute_result"
    }
   ],
   "source": [
    "# First order derivative of function y\n",
    "y_prime_1 = y.diff(x,1)\n",
    "y_prime_1"
   ]
  },
  {
   "cell_type": "code",
   "execution_count": 18,
   "metadata": {},
   "outputs": [
    {
     "data": {
      "image/png": "[encoded data removed]",
      "text/plain": [
       "<Figure size 432x288 with 2 Axes>"
      ]
     },
     "metadata": {
      "needs_background": "light"
     },
     "output_type": "display_data"
    }
   ],
   "source": [
    "# Substitute values in y_prime and plot\n",
    "data_y_prime = [y_prime_1.evalf(subs={x:i, r:1}) for i in data_x]\n",
    "\n",
    "fig, ax1 = plt.subplots()\n",
    "ax1.plot(data_x,data_y,label = \"distance\",color=\"tab:blue\")\n",
    "ax1.set_ylabel(\"Distance\")\n",
    "ax1.set_xlabel(\"Time\")\n",
    "ax1.set_ylim(0,1)\n",
    "ax1.set_xlim(0,10)\n",
    "\n",
    "# To plot multiple plots in same figure\n",
    "ax2 = ax1.twinx()\n",
    "\n",
    "ax2.plot(data_x,data_y_prime,label=\"velocity\",color=\"tab:red\")\n",
    "ax2.set_ylabel(\"Velocity\")\n",
    "ax2.set_ylim(0,1)\n",
    "ax2.set_xlim(0,10)\n",
    "\n",
    "# automatically adjust subplot params to fit in to the figure area\n",
    "fig.tight_layout() "
   ]
  },
  {
   "cell_type": "markdown",
   "metadata": {},
   "source": [
    "# Derivative of non-linear function"
   ]
  },
  {
   "cell_type": "code",
   "execution_count": 19,
   "metadata": {},
   "outputs": [
    {
     "data": {
      "text/latex": [
       "$\\displaystyle x^{2}$"
      ],
      "text/plain": [
       "x**2"
      ]
     },
     "execution_count": 19,
     "metadata": {},
     "output_type": "execute_result"
    }
   ],
   "source": [
    "#Generate x data again using linspace \n",
    "data_x = np.linspace(0,10,100)\n",
    "\n",
    "x = sp.Symbol('x')\n",
    "y = sp.Function(x)\n",
    "\n",
    "y = x**2\n",
    "y"
   ]
  },
  {
   "cell_type": "code",
   "execution_count": 20,
   "metadata": {},
   "outputs": [
    {
     "data": {
      "text/plain": [
       "<matplotlib.legend.Legend at 0x7f3914c113f0>"
      ]
     },
     "execution_count": 20,
     "metadata": {},
     "output_type": "execute_result"
    },
    {
     "data": {
      "image/png": "[encoded data removed]",
      "text/plain": [
       "<Figure size 432x288 with 1 Axes>"
      ]
     },
     "metadata": {
      "needs_background": "light"
     },
     "output_type": "display_data"
    }
   ],
   "source": [
    "data_y = [y.evalf(subs={x:i}) for i in data_x]\n",
    "\n",
    "plt.figure()\n",
    "plt.grid()\n",
    "plt.xlabel(\"x\")\n",
    "plt.ylabel(\"f(x)\")\n",
    "plt.plot(data_x,data_y,label=\"x^2\")\n",
    "plt.legend()"
   ]
  },
  {
   "cell_type": "code",
   "execution_count": 21,
   "metadata": {},
   "outputs": [
    {
     "data": {
      "text/latex": [
       "$\\displaystyle 2 x$"
      ],
      "text/plain": [
       "2*x"
      ]
     },
     "execution_count": 21,
     "metadata": {},
     "output_type": "execute_result"
    }
   ],
   "source": [
    "y_prime = y.diff(x,1)\n",
    "y_prime"
   ]
  },
  {
   "cell_type": "code",
   "execution_count": 22,
   "metadata": {},
   "outputs": [
    {
     "data": {
      "image/png": "[encoded data removed]",
      "text/plain": [
       "<Figure size 432x288 with 2 Axes>"
      ]
     },
     "metadata": {
      "needs_background": "light"
     },
     "output_type": "display_data"
    }
   ],
   "source": [
    "data_y_prime = [y_prime.evalf(subs={x:i}) for i in data_x]\n",
    "\n",
    "fig, ax1 = plt.subplots()\n",
    "ax1.plot(data_x,data_y,label = \"f(x)\",color=\"tab:blue\")\n",
    "ax1.set_ylabel(\"f(x)\")\n",
    "ax1.set_xlabel(\"x\")\n",
    "ax1.set_xlim(0,10)\n",
    "ax2 = ax1.twinx()\n",
    "ax2.plot(data_x,data_y_prime,label=\"f_prime(x)\",color=\"tab:red\")\n",
    "ax2.set_ylabel(\"f_prime(x)\")\n",
    "ax2.set_xlim(0,10)\n",
    "fig.tight_layout() "
   ]
  },
  {
   "cell_type": "markdown",
   "metadata": {},
   "source": [
    "# Chain Rule"
   ]
  },
  {
   "cell_type": "markdown",
   "metadata": {},
   "source": [
    "u = Funtion(x)\n",
    "\n",
    "v = Function(u)\n",
    "\n",
    "y = Function(v)\n",
    "\n",
    "\n",
    "$$\\frac{d_y}{d_x} =\\frac{d_y}{d_v} \\frac{d_v}{d_u} \\frac{d_u}{d_x} $$\n"
   ]
  },
  {
   "cell_type": "code",
   "execution_count": 23,
   "metadata": {},
   "outputs": [
    {
     "data": {
      "text/latex": [
       "$\\displaystyle x^{3}$"
      ],
      "text/plain": [
       "x**3"
      ]
     },
     "execution_count": 23,
     "metadata": {},
     "output_type": "execute_result"
    }
   ],
   "source": [
    "# u = Function(x)\n",
    "x = sp.Symbol('x')\n",
    "u = sp.Function(x)\n",
    "u = x**3\n",
    "u"
   ]
  },
  {
   "cell_type": "code",
   "execution_count": 24,
   "metadata": {},
   "outputs": [
    {
     "data": {
      "text/latex": [
       "$\\displaystyle 3 x^{2}$"
      ],
      "text/plain": [
       "3*x**2"
      ]
     },
     "execution_count": 24,
     "metadata": {},
     "output_type": "execute_result"
    }
   ],
   "source": [
    "# first order derivative du/dx\n",
    "dudx = u.diff(x,1)\n",
    "dudx"
   ]
  },
  {
   "cell_type": "code",
   "execution_count": 25,
   "metadata": {},
   "outputs": [
    {
     "data": {
      "text/latex": [
       "$\\displaystyle u^{2}$"
      ],
      "text/plain": [
       "u**2"
      ]
     },
     "execution_count": 25,
     "metadata": {},
     "output_type": "execute_result"
    }
   ],
   "source": [
    "# v = Function(u)\n",
    "u = sp.Symbol('u')\n",
    "v = sp.Function(u)\n",
    "v = u**2\n",
    "v"
   ]
  },
  {
   "cell_type": "code",
   "execution_count": 26,
   "metadata": {},
   "outputs": [
    {
     "data": {
      "text/latex": [
       "$\\displaystyle 2 u$"
      ],
      "text/plain": [
       "2*u"
      ]
     },
     "execution_count": 26,
     "metadata": {},
     "output_type": "execute_result"
    }
   ],
   "source": [
    "# first order derivative dv/du\n",
    "dvdu = v.diff(u)\n",
    "dvdu"
   ]
  },
  {
   "cell_type": "code",
   "execution_count": 27,
   "metadata": {},
   "outputs": [
    {
     "data": {
      "text/latex": [
       "$\\displaystyle 2 x^{3}$"
      ],
      "text/plain": [
       "2*x**3"
      ]
     },
     "execution_count": 27,
     "metadata": {},
     "output_type": "execute_result"
    }
   ],
   "source": [
    "# substitute u=x^3\n",
    "dvdu.subs(u,x**3)"
   ]
  },
  {
   "cell_type": "code",
   "execution_count": 28,
   "metadata": {},
   "outputs": [
    {
     "data": {
      "text/latex": [
       "$\\displaystyle 4 v^{3}$"
      ],
      "text/plain": [
       "4*v**3"
      ]
     },
     "execution_count": 28,
     "metadata": {},
     "output_type": "execute_result"
    }
   ],
   "source": [
    "# y = Function(v)\n",
    "v = sp.Symbol('v')\n",
    "y = sp.Function(u)\n",
    "y = v**4\n",
    "dydv = y.diff(v)\n",
    "dydv"
   ]
  },
  {
   "cell_type": "code",
   "execution_count": 29,
   "metadata": {},
   "outputs": [
    {
     "data": {
      "text/latex": [
       "$\\displaystyle 24 u v^{3} x^{2}$"
      ],
      "text/plain": [
       "24*u*v**3*x**2"
      ]
     },
     "execution_count": 29,
     "metadata": {},
     "output_type": "execute_result"
    }
   ],
   "source": [
    "# Chain rule: dy/dx = dy/dv * dv/du * du/dx\n",
    "dydx = dudx*dvdu*dydv\n",
    "dydx"
   ]
  },
  {
   "cell_type": "code",
   "execution_count": 30,
   "metadata": {},
   "outputs": [
    {
     "data": {
      "text/latex": [
       "$\\displaystyle 24 x^{23}$"
      ],
      "text/plain": [
       "24*x**23"
      ]
     },
     "execution_count": 30,
     "metadata": {},
     "output_type": "execute_result"
    }
   ],
   "source": [
    "# substitue v = u**2, u=x^3\n",
    "dydx = dydx.subs(v,u**2)\n",
    "dydx.subs(u,x**3)"
   ]
  },
  {
   "cell_type": "markdown",
   "metadata": {},
   "source": [
    "# Higher order derivatives"
   ]
  },
  {
   "cell_type": "code",
   "execution_count": 90,
   "metadata": {},
   "outputs": [
    {
     "data": {
      "text/latex": [
       "$\\displaystyle t^{4}$"
      ],
      "text/plain": [
       "t**4"
      ]
     },
     "execution_count": 90,
     "metadata": {},
     "output_type": "execute_result"
    }
   ],
   "source": [
    "t = sp.Symbol('t')\n",
    "distance = sp.Function(t)\n",
    "\n",
    "distance = t**4\n",
    "distance"
   ]
  },
  {
   "cell_type": "code",
   "execution_count": 91,
   "metadata": {},
   "outputs": [
    {
     "data": {
      "text/latex": [
       "$\\displaystyle 4 t^{3}$"
      ],
      "text/plain": [
       "4*t**3"
      ]
     },
     "execution_count": 91,
     "metadata": {},
     "output_type": "execute_result"
    }
   ],
   "source": [
    "# First order derivative\n",
    "velocity = distance.diff(t,1)\n",
    "velocity"
   ]
  },
  {
   "cell_type": "code",
   "execution_count": 92,
   "metadata": {},
   "outputs": [
    {
     "data": {
      "text/latex": [
       "$\\displaystyle 12 t^{2}$"
      ],
      "text/plain": [
       "12*t**2"
      ]
     },
     "execution_count": 92,
     "metadata": {},
     "output_type": "execute_result"
    }
   ],
   "source": [
    "# Second order derivative\n",
    "acceleration = distance.diff(t,2)\n",
    "acceleration"
   ]
  },
  {
   "cell_type": "code",
   "execution_count": 93,
   "metadata": {},
   "outputs": [
    {
     "data": {
      "image/png": "[encoded data removed]",
      "text/plain": [
       "<Figure size 432x288 with 1 Axes>"
      ]
     },
     "metadata": {
      "needs_background": "light"
     },
     "output_type": "display_data"
    }
   ],
   "source": [
    "data_t = np.linspace(0,5,100)\n",
    "\n",
    "distance_subs = [distance.evalf(subs={t:i}) for i in data_t]\n",
    "velocity_subs = [velocity.evalf(subs={t:i}) for i in data_t]\n",
    "acceleration_subs = [acceleration.evalf(subs={t:i}) for i in data_t]\n",
    "\n",
    "plt.plot(data_t,distance_subs,label='distance')\n",
    "plt.plot(data_t,velocity_subs,label=\"velocity\")\n",
    "plt.plot(data_t,acceleration_subs,label=\"acceleration\")\n",
    "plt.legend()\n",
    "plt.show()"
   ]
  },
  {
   "cell_type": "markdown",
   "metadata": {},
   "source": [
    "# Integrals"
   ]
  },
  {
   "cell_type": "code",
   "execution_count": 31,
   "metadata": {},
   "outputs": [
    {
     "data": {
      "text/plain": [
       "x"
      ]
     },
     "execution_count": 31,
     "metadata": {},
     "output_type": "execute_result"
    }
   ],
   "source": [
    "x = sp.Symbol('x')\n",
    "y = sp.Function(x)\n",
    "\n",
    "y"
   ]
  },
  {
   "cell_type": "code",
   "execution_count": 2,
   "metadata": {},
   "outputs": [
    {
     "data": {
      "text/latex": [
       "$\\displaystyle y{\\left(x \\right)}$"
      ],
      "text/plain": [
       "y(x)"
      ]
     },
     "execution_count": 2,
     "metadata": {},
     "output_type": "execute_result"
    }
   ],
   "source": [
    "x = sp.Symbol('x')\n",
    "y = sp.Function('y')(x)\n",
    "\n",
    "y"
   ]
  },
  {
   "cell_type": "code",
   "execution_count": 3,
   "metadata": {},
   "outputs": [
    {
     "data": {
      "text/latex": [
       "$\\displaystyle \\frac{d}{d x} y{\\left(x \\right)} - \\frac{e^{4 - x}}{\\left(e^{4 - x} + 1\\right)^{2}}$"
      ],
      "text/plain": [
       "Derivative(y(x), x) - exp(4 - x)/(exp(4 - x) + 1)**2"
      ]
     },
     "execution_count": 3,
     "metadata": {},
     "output_type": "execute_result"
    }
   ],
   "source": [
    "data_x = np.linspace(0,10,100)\n",
    "\n",
    "x = sp.Symbol('x')\n",
    "y = sp.Function('y')(x)\n",
    "\n",
    "# derivative of y w.r.t x\n",
    "y_prime = sp.Derivative(y,x)\n",
    "y_1 = 1 / (1+sp.exp(-(x-4)))\n",
    "\n",
    "# y' = e^(4-x)/(1+e^(4-x))^2\n",
    "eq = y_prime - y_1.diff(x,1)\n",
    "eq"
   ]
  },
  {
   "cell_type": "code",
   "execution_count": 4,
   "metadata": {},
   "outputs": [
    {
     "data": {
      "text/latex": [
       "$\\displaystyle \\frac{d}{d x} y{\\left(x \\right)} = \\frac{e^{4 - x}}{\\left(e^{4 - x} + 1\\right)^{2}}$"
      ],
      "text/plain": [
       "Eq(Derivative(y(x), x), exp(4 - x)/(exp(4 - x) + 1)**2)"
      ]
     },
     "execution_count": 4,
     "metadata": {},
     "output_type": "execute_result"
    }
   ],
   "source": [
    "# Alternative way of initialising equation\n",
    "\n",
    "eq1 = sp.Eq(y_prime,y_1.diff(x))\n",
    "eq1"
   ]
  },
  {
   "cell_type": "code",
   "execution_count": 35,
   "metadata": {},
   "outputs": [
    {
     "data": {
      "text/latex": [
       "$\\displaystyle y{\\left(x \\right)} = C_{1} - \\frac{e^{4}}{e^{x} + e^{4}}$"
      ],
      "text/plain": [
       "Eq(y(x), C1 - exp(4)/(exp(x) + exp(4)))"
      ]
     },
     "execution_count": 35,
     "metadata": {},
     "output_type": "execute_result"
    }
   ],
   "source": [
    "# solve the differential equation\n",
    "sp.dsolve(eq)"
   ]
  },
  {
   "cell_type": "code",
   "execution_count": 36,
   "metadata": {},
   "outputs": [
    {
     "data": {
      "text/latex": [
       "$\\displaystyle y{\\left(x \\right)} = 0.999999790037908 - \\frac{e^{4}}{e^{x} + e^{4}}$"
      ],
      "text/plain": [
       "Eq(y(x), 0.999999790037908 - exp(4)/(exp(x) + exp(4)))"
      ]
     },
     "execution_count": 36,
     "metadata": {},
     "output_type": "execute_result"
    }
   ],
   "source": [
    "# Sloving the integral with intial value\n",
    "sol = sp.dsolve(eq,ics={y.subs(x,0):0.017986})\n",
    "sol"
   ]
  },
  {
   "cell_type": "code",
   "execution_count": 37,
   "metadata": {},
   "outputs": [
    {
     "data": {
      "text/latex": [
       "$\\displaystyle y{\\left(x \\right)} = \\frac{0.999999790037908 e^{x} - 2.09962091601845 \\cdot 10^{-7} e^{4}}{e^{x} + e^{4}}$"
      ],
      "text/plain": [
       "Eq(y(x), (0.999999790037908*exp(x) - 2.09962091601845e-7*exp(4))/(exp(x) + exp(4)))"
      ]
     },
     "execution_count": 37,
     "metadata": {},
     "output_type": "execute_result"
    }
   ],
   "source": [
    "sp.simplify(sol)"
   ]
  },
  {
   "cell_type": "markdown",
   "metadata": {},
   "source": [
    "# Discrete Calculus\n",
    "\n",
    "more detailed information at http://hplgit.github.io/primer.html/doc/pub/discalc/discalc-readable.html"
   ]
  },
  {
   "cell_type": "markdown",
   "metadata": {},
   "source": [
    "### Differentiation become Difference. Example: sine function\n",
    "\n",
    "Consider $f(x) = sin(x)$ and its derivative be $f'(x) = cos(x)$. For $x = 1$, we have $$f'(1) = cos(1) \\approx 0.540$$.\n",
    "\n",
    "The derivative can be approximated by difference for small value of h :\n",
    "\n",
    "$$f'(x) = \\frac{f(x+h) - f(x)}{h}$$\n",
    "\n",
    "By putting $h = \\frac{1}{100}$ we get:\n",
    "\n",
    "$$f'(1) = \\frac{f(1 + \\frac{1}{100}) - f(1)}{\\frac{1}{100}} = \\frac{sin(1.01) - sin(1)}{0.01} \\approx 0.536$$\n"
   ]
  },
  {
   "cell_type": "code",
   "execution_count": 38,
   "metadata": {},
   "outputs": [
    {
     "name": "stdout",
     "output_type": "stream",
     "text": [
      "The approximated value is:  0.4973637525353891\n",
      "The correct value is:       0.5403023058681398\n",
      "The error is:               0.04293855333275065\n"
     ]
    }
   ],
   "source": [
    "#here is the code for the above calculation\n",
    "\n",
    "def diff(f, x, h):\n",
    "    return (f(x+h) - f(x))/float(h)\n",
    "\n",
    "\n",
    "\n",
    "x = 1\n",
    "h = 1/10\n",
    "\n",
    "approx_deriv = diff(np.sin, x, h)\n",
    "exact = np.cos(x)\n",
    "print('The approximated value is: ', approx_deriv)\n",
    "print('The correct value is:      ', exact)\n",
    "print('The error is:              ', exact - approx_deriv)"
   ]
  },
  {
   "cell_type": "markdown",
   "metadata": {},
   "source": [
    "### Integration becomes Sum. Example: sine function\n",
    "Suppose we are finding the integral of $sin(x)$ from $x = 0$ to $x = \\pi$. So we are computing $\\int_0^\\pi sin(x) dx$.\n",
    "\n",
    "We can either compute this integral analytically, i-e\n",
    "\n",
    "$$\n",
    "\\begin{align*}\n",
    "\\int_0^\\pi sin(x) dx = [-cos(x)]_0^\\pi = 2\n",
    "\\end{align*}\n",
    "$$\n",
    "\n",
    "Or we can compute this integral numerically by summation, i-e we can break this integral in sub-integral and then sum them to get the overall integral.\n",
    "\n",
    "$$\n",
    "\\begin{align*}\n",
    "\\int_0^\\pi sin(x) dx = \\sum_{k=0}^{n-1} \\int_{x_k}^{x_{k+1}} sin(x) dx\n",
    "\\end{align*}\n",
    "$$\n",
    "\n",
    "Let's divide the sum in only four subintervals, therfore $n = 4$.\n",
    "$$\n",
    "\\begin{align*}\n",
    "x_0 &= 0 \\\\\n",
    "x_1 &= \\pi/4 \\\\\n",
    "x_2 &= \\pi/2 \\\\\n",
    "x_3 &= 3\\pi/4 \\\\\n",
    "x_4 &= \\pi\n",
    "\\end{align*}\n",
    "$$\n",
    "\n",
    "So now the integral can be approximated by:\n",
    "$$\n",
    "\\begin{align*}\n",
    "\\int_0^\\pi sin(x) dx = \\int_{0}^{\\pi/4} sin(x) dx +  \\int_{\\pi/4}^{\\pi/2} sin(x) dx +  \\int_{\\pi/2}^{3\\pi/4} sin(x) dx +  \\int_{3\\pi/4}^{\\pi} sin(x) dx\n",
    "\\end{align*}\n",
    "$$\n",
    "\n",
    "These subintegrals can be found by area of trapezoid by:\n",
    "\n",
    "$$\n",
    "\\begin{align*}\n",
    " \\int_{\\pi/4}^{\\pi/2} sin(x) dx = \\frac{1}{2} (sin(\\pi/2) + sin(\\pi/4))\\ (\\pi/2 - \\pi/4)\n",
    "\\end{align*}\n",
    "$$\n",
    "This can be shown in below plot"
   ]
  },
  {
   "cell_type": "code",
   "execution_count": 27,
   "metadata": {},
   "outputs": [
    {
     "data": {
      "image/png": "[encoded data removed]",
      "text/plain": [
       "<Figure size 648x360 with 1 Axes>"
      ]
     },
     "metadata": {
      "needs_background": "light"
     },
     "output_type": "display_data"
    }
   ],
   "source": [
    "fig, ax = plt.subplots(figsize = (9,5))\n",
    "\n",
    "# plotting dicrete sinus\n",
    "ax.scatter([np.pi/4, np.pi/2], [np.sin(np.pi/4),  np.sin(np.pi/2)])\n",
    "\n",
    "# plotting trapezoid\n",
    "ax.plot([np.pi/4, np.pi/2], [np.sin(np.pi/4),  np.sin(np.pi/2)])\n",
    "ax.vlines(np.pi/4,0,np.sin(np.pi/4), color = 'black')\n",
    "ax.vlines(np.pi/2,0,np.sin(np.pi/2))\n",
    "\n",
    "# plotting original sinus\n",
    "ax.plot(np.arange(0.5, 1.8, 0.001), [np.sin(i) for i in np.arange(0.5, 1.8, 0.001)])\n",
    "\n",
    "# set plotting limits\n",
    "ax.set_xlim(0.5, 1.8)\n",
    "ax.set_ylim(0, 1.5)\n",
    "\n",
    "# visual additives\n",
    "ax.set_title(\"Sin graph from pi/4 to pi/2 \")\n",
    "ax.set_xlabel(\"x\")\n",
    "ax.set_ylabel(\"Sin(x)\")\n",
    "plt.show()"
   ]
  },
  {
   "cell_type": "markdown",
   "metadata": {},
   "source": [
    "Also as we increase the number of subintegrals, we will get a more better approximation. The numerical approximatin of computing a sin integral in a python program is shown below. In this we will start from 4 subintervals then increase the them till 100 to see how the approximation become closer to the real value.\n"
   ]
  },
  {
   "cell_type": "code",
   "execution_count": 140,
   "metadata": {},
   "outputs": [
    {
     "name": "stdout",
     "output_type": "stream",
     "text": [
      "x:  [  0.  45.  90. 135. 180.]\n",
      "[  0.  45.  90. 135.]\n",
      "[ 45.  90. 135. 180.]\n"
     ]
    }
   ],
   "source": [
    "x = np.linspace(0,180,5)\n",
    "print('x: ',x)\n",
    "print(x[:-1])\n",
    "print(x[1:])"
   ]
  },
  {
   "cell_type": "code",
   "execution_count": 28,
   "metadata": {},
   "outputs": [
    {
     "name": "stdout",
     "output_type": "stream",
     "text": [
      "The analytical sine integral value from 0 to pi\n",
      "The approxmiation of sine integral for 4 is 1.8961188979370398\n",
      "The approxmiation of sine integral for 10 is 1.9835235375094546\n",
      "The approxmiation of sine integral for 20 is 1.9958859727087146\n",
      "The approxmiation of sine integral for 50 is 1.9993419830762615\n",
      "The approxmiation of sine integral for 100 is 1.999835503887444\n"
     ]
    }
   ],
   "source": [
    "def sin_area(x1, x2):\n",
    "    x1 = np.deg2rad(x1)\n",
    "    x2 = np.deg2rad(x2)\n",
    "    return (np.sin(x2) + np.sin(x1)) * (x2 - x1)/2\n",
    "\n",
    "print(\"The analytical sine integral value from 0 to pi\")\n",
    "\n",
    "for num_of_points in [4, 10, 20, 50, 100]:\n",
    "    x = np.linspace(0,180,num_of_points + 1)\n",
    "\n",
    "    area_int = 0\n",
    "    for x1,x2 in zip(x[:-1],x[1:]):\n",
    "        area_int += sin_area(x1,x2)\n",
    "\n",
    "    print(\"The approxmiation of sine integral for {} is {}\".format(num_of_points, area_int))"
   ]
  }
 ],
 "metadata": {
  "kernelspec": {
   "display_name": "Python 3 (ipykernel)",
   "language": "python",
   "name": "python3"
  },
  "language_info": {
   "codemirror_mode": {
    "name": "ipython",
    "version": 3
   },
   "file_extension": ".py",
   "mimetype": "text/x-python",
   "name": "python",
   "nbconvert_exporter": "python",
   "pygments_lexer": "ipython3",
   "version": "3.10.12"
  }
 },
 "nbformat": 4,
 "nbformat_minor": 4
}
