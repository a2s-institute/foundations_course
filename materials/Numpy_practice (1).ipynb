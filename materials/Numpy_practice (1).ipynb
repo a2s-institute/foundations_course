{
 "cells": [
  {
   "cell_type": "markdown",
   "metadata": {},
   "source": [
    "# NumPy Programming Practice\n",
    "\n",
    "### Author: Arunima Chaurasia\n",
    "### Based on the notebook of : Santosh Muthireddy and Divin Devaiah\n",
    "\n",
    "# Requirements\n",
    "* NumPy\n",
    "* python3\n"
   ]
  },
  {
   "cell_type": "markdown",
   "metadata": {},
   "source": [
    "## Objective\n",
    "In this we focus on\n",
    "* ndarray\n",
    "* Arithmetic operations\n",
    "* Indexing\n",
    "* Slicing\n",
    "* Matrix operations\n",
    "\n",
    "## Introduction\n",
    "NumPy is a python library for numerical computation, it stands for \"Numerical Python.\" It provides support for large, multi-dimensional arrays and matrices, along with a collection of mathematical functions to operate on these arrays efficiently."
   ]
  },
  {
   "cell_type": "code",
   "execution_count": 2,
   "metadata": {},
   "outputs": [],
   "source": [
    "# Importing the library\n",
    "import numpy as np\n",
    "\n",
    "# Check the documentation of any function by '?' like np.arange?"
   ]
  },
  {
   "cell_type": "markdown",
   "metadata": {},
   "source": [
    "#### Different ways to initialise and declare a NumPy array"
   ]
  },
  {
   "cell_type": "code",
   "execution_count": 3,
   "metadata": {},
   "outputs": [],
   "source": [
    "# Function to print 1d array\n",
    "def print_array_1d(arr):\n",
    "    print(\"data: \\n\",arr)\n",
    "    print(\"array type:\",type(arr))\n",
    "    print(\"data type:\",type(arr[0]))\n",
    "    print(\"shape:\",arr.shape)\n",
    "    print(\"--------------------\")\n",
    "    \n",
    "# Function to print 2d array    \n",
    "def print_array_2d(arr):\n",
    "    print(\"data: \\n\",arr)\n",
    "    print(\"array type:\",type(arr))\n",
    "    print(\"data type:\",type(arr[0][0]))\n",
    "    print(\"shape:\",arr.shape)\n",
    "    print(\"--------------------\")"
   ]
  },
  {
   "cell_type": "code",
   "execution_count": 9,
   "metadata": {},
   "outputs": [
    {
     "name": "stdout",
     "output_type": "stream",
     "text": [
      "data: \n",
      " [1 2 3 4 5]\n",
      "array type: <class 'numpy.ndarray'>\n",
      "data type: <class 'numpy.int64'>\n",
      "shape: (5,)\n",
      "--------------------\n",
      "data: \n",
      " [0.1 0.5 0.9 2.3]\n",
      "array type: <class 'numpy.ndarray'>\n",
      "data type: <class 'numpy.float64'>\n",
      "shape: (4,)\n",
      "--------------------\n",
      "data: \n",
      " [1. 2. 3. 4. 5.]\n",
      "array type: <class 'numpy.ndarray'>\n",
      "data type: <class 'numpy.float64'>\n",
      "shape: (5,)\n",
      "--------------------\n",
      "data: \n",
      " [0 0 0 2]\n",
      "array type: <class 'numpy.ndarray'>\n",
      "data type: <class 'numpy.int64'>\n",
      "shape: (4,)\n",
      "--------------------\n",
      "data: \n",
      " [0. 0. 0. 2.]\n",
      "array type: <class 'numpy.ndarray'>\n",
      "data type: <class 'numpy.float64'>\n",
      "shape: (4,)\n",
      "--------------------\n",
      "data: \n",
      " [1. 2. 3.]\n",
      "array type: <class 'numpy.ndarray'>\n",
      "data type: <class 'numpy.float64'>\n",
      "shape: (3,)\n",
      "--------------------\n"
     ]
    }
   ],
   "source": [
    "# 1D array, int\n",
    "arr1 = np.array([1,2,3,4,5])\n",
    "print_array_1d(arr1)\n",
    "\n",
    "# 1D array, float\n",
    "arr2 = np.array([0.1,0.5,0.9,2.3])\n",
    "print_array_1d(arr2)\n",
    "\n",
    "# 1D array, defining dtype\n",
    "arr1 = np.array([1,2,3,4,5],dtype=float)\n",
    "print_array_1d(arr1)\n",
    "\n",
    "arr2 = np.array([0.1,0.5,0.9,2.3],dtype=int)\n",
    "print_array_1d(arr2)\n",
    "\n",
    "# type casting\n",
    "arr3 = np.array(['1','2','3'])\n",
    "print_array_1d(arr2.astype(float))\n",
    "print_array_1d(arr3.astype(float))"
   ]
  },
  {
   "cell_type": "code",
   "execution_count": null,
   "metadata": {},
   "outputs": [],
   "source": [
    "# 2D array, int\n",
    "arr1 = np.array([[1,2],[3,4],[5,6]])\n",
    "print_array_2d(arr1)\n",
    "\n",
    "# 2D array, float\n",
    "arr2 = np.array([[0.1,0.5],[0.9,2.3]])\n",
    "print_array_1d(arr2)"
   ]
  },
  {
   "cell_type": "code",
   "execution_count": null,
   "metadata": {
    "scrolled": true
   },
   "outputs": [],
   "source": [
    "# Making 2D array from 1D array\n",
    "# numpy reshape can be used to change the shape of the array\n",
    "arr1 = np.array([1,2,3,4,5,6])\n",
    "print_array_1d(arr1)\n",
    "arr1 = np.reshape(arr1,(3,2))\n",
    "print_array_2d(arr1)"
   ]
  },
  {
   "cell_type": "code",
   "execution_count": null,
   "metadata": {},
   "outputs": [],
   "source": [
    "# Create arrays with ones in 1D\n",
    "arr3 = np.ones(6)\n",
    "print_array_1d(arr3)\n",
    "\n",
    "# Create arrays with ones in 2D\n",
    "arr3 = np.ones((3,3))\n",
    "print_array_2d(arr3)\n"
   ]
  },
  {
   "cell_type": "code",
   "execution_count": null,
   "metadata": {},
   "outputs": [],
   "source": [
    "# create arrays with zeros in 1D\n",
    "arr3 = np.zeros(5)\n",
    "print_array_1d(arr3)\n",
    "\n",
    "# Create arrays with zeros in 2D\n",
    "arr3 = np.zeros((3,3))\n",
    "print_array_2d(arr3)\n"
   ]
  },
  {
   "cell_type": "code",
   "execution_count": null,
   "metadata": {},
   "outputs": [],
   "source": [
    "# Create identity matrix\n",
    "arr3 = np.identity(4)\n",
    "print_array_2d(arr3)\n",
    "\n",
    "# Create matrix with ones in diagonal, may not be identity\n",
    "# diagonal considered is main by default\n",
    "arr3 = np.eye(4,4)\n",
    "print_array_2d(arr3)\n"
   ]
  },
  {
   "cell_type": "code",
   "execution_count": null,
   "metadata": {},
   "outputs": [],
   "source": [
    "# By default the data type is float\n",
    "arr3 = np.eye(2,4, dtype=int)\n",
    "print_array_2d(arr3)\n",
    "\n",
    "# Creates diagonal array and also retreives the diagonal using this function\n",
    "arr3 = np.diag((3,3,4,5))\n",
    "print_array_2d(arr3)"
   ]
  },
  {
   "cell_type": "markdown",
   "metadata": {},
   "source": [
    "### Generate arrays with random values or intervals"
   ]
  },
  {
   "cell_type": "code",
   "execution_count": null,
   "metadata": {},
   "outputs": [],
   "source": [
    "# Using np.arange(), returns evenly spaced values in given interval\n",
    "#Generating numpy array with step 1\n",
    "arr1 = np.arange(6)\n",
    "print_array_1d(arr1)\n",
    "\n",
    "# Start = 2, stop = 6\n",
    "arr1 = np.arange(2,6)\n",
    "print_array_1d(arr1)\n",
    "\n",
    "# Generating numpy array with step 0.2\n",
    "arr1 = np.arange(0,6,0.2)\n",
    "print_array_1d(arr1)"
   ]
  },
  {
   "cell_type": "code",
   "execution_count": null,
   "metadata": {},
   "outputs": [],
   "source": [
    "# Using np.linspace(), returns evenly spaced numbers over speified interval\n",
    "#Generating numpy array\n",
    "arr1 = np.linspace(0,6,num=10)\n",
    "print_array_1d(arr1)\n",
    "\n",
    "# endpoint includes the stop value as last value of the sequence if set to True(Default)\n",
    "arr1 = np.linspace(0,6,num=10,endpoint=False)\n",
    "print_array_1d(arr1)\n",
    "\n",
    "arr1 = np.linspace(0,6,num=10,endpoint=False,retstep=True)\n",
    "print(arr1)\n"
   ]
  },
  {
   "cell_type": "code",
   "execution_count": null,
   "metadata": {},
   "outputs": [],
   "source": [
    "#generating array from random generator\n",
    "\n",
    "#setting the seed for reproducibility\n",
    "np.random.seed(0)\n",
    "\n",
    "#generating 1 dimentional array\n",
    "arr1 = np.random.normal(0, 1, (5,))\n",
    "print_array_1d(arr1)\n",
    "\n",
    "arr2 = np.random.randint(low = 0, high = 100, size = (5,))\n",
    "print_array_1d(arr2)\n",
    "\n",
    "#generating 2d dimentional array\n",
    "arr1 = np.random.normal(5, 10, (2,2))\n",
    "print_array_2d(arr1)\n",
    "\n",
    "arr2 = np.random.randint(low = 0, high = 100, size = (3,4))\n",
    "print_array_1d(arr2)\n"
   ]
  },
  {
   "cell_type": "code",
   "execution_count": null,
   "metadata": {},
   "outputs": [],
   "source": [
    "# Generate 5 random numbers between 0 and 1 from uniform distribution\n",
    "random_numbers = np.random.uniform(0, 1, 5)\n",
    "print(\"Random numbers between 0 and 1:\")\n",
    "print_array_1d(random_numbers)\n",
    "\n",
    "# Generate a 3x3 array of random numbers between 0 and 10\n",
    "random_matrix = np.random.uniform(0, 10, (3, 3))\n",
    "print(\"\\nRandom 3x3 matrix between 0 and 10:\")\n",
    "print_array_2d(random_matrix)"
   ]
  },
  {
   "cell_type": "markdown",
   "metadata": {},
   "source": [
    "## Slicing NumPy array\n",
    "\n",
    "* It gives the 'view' of the array, not the copy of the data.\n",
    "* Any modification of the sliced array will be reflected in the original array.\n",
    "* Use '&' and '|' instead of 'and' and 'or' for indexing. "
   ]
  },
  {
   "cell_type": "code",
   "execution_count": 31,
   "metadata": {},
   "outputs": [
    {
     "name": "stdout",
     "output_type": "stream",
     "text": [
      "[0 1 2 3 4 5 6 7 8 9]\n"
     ]
    }
   ],
   "source": [
    "start = 3\n",
    "end = 7\n",
    "arr1 = np.arange(10)\n",
    "print(arr1)"
   ]
  },
  {
   "cell_type": "code",
   "execution_count": 32,
   "metadata": {},
   "outputs": [
    {
     "name": "stdout",
     "output_type": "stream",
     "text": [
      "[0 1 2 3 4 5 6]\n"
     ]
    }
   ],
   "source": [
    "#slicing till a point from start\n",
    "print(arr1[:end])"
   ]
  },
  {
   "cell_type": "code",
   "execution_count": 33,
   "metadata": {},
   "outputs": [
    {
     "name": "stdout",
     "output_type": "stream",
     "text": [
      "[3 4 5 6 7 8 9]\n"
     ]
    }
   ],
   "source": [
    "#slicing from a point to end\n",
    "print(arr1[start:])"
   ]
  },
  {
   "cell_type": "code",
   "execution_count": 34,
   "metadata": {},
   "outputs": [
    {
     "name": "stdout",
     "output_type": "stream",
     "text": [
      "[3 4 5 6]\n"
     ]
    }
   ],
   "source": [
    "#slicing between points\n",
    "print(arr1[start:end])"
   ]
  },
  {
   "cell_type": "code",
   "execution_count": 35,
   "metadata": {},
   "outputs": [
    {
     "name": "stdout",
     "output_type": "stream",
     "text": [
      "[0 2 4 6 8]\n"
     ]
    }
   ],
   "source": [
    "#every number with n skips\n",
    "n = 2\n",
    "print(arr1[::n])"
   ]
  },
  {
   "cell_type": "code",
   "execution_count": 36,
   "metadata": {},
   "outputs": [
    {
     "name": "stdout",
     "output_type": "stream",
     "text": [
      "[9 8 7 6 5 4 3 2 1 0]\n"
     ]
    }
   ],
   "source": [
    "#reverse\n",
    "print(arr1[::-1])"
   ]
  },
  {
   "cell_type": "markdown",
   "metadata": {},
   "source": [
    "## Indexing numpy array"
   ]
  },
  {
   "cell_type": "code",
   "execution_count": 37,
   "metadata": {},
   "outputs": [
    {
     "name": "stdout",
     "output_type": "stream",
     "text": [
      "[[14 35 12]\n",
      " [20 11  4]\n",
      " [ 6  4  3]\n",
      " [12 36 14]]\n"
     ]
    }
   ],
   "source": [
    "#Generate random array with integers\n",
    "arr1 = np.random.randint(40,size=(4,3))\n",
    "print(arr1)"
   ]
  },
  {
   "cell_type": "code",
   "execution_count": 38,
   "metadata": {},
   "outputs": [
    {
     "data": {
      "text/plain": [
       "array([[14, 35, 12]])"
      ]
     },
     "execution_count": 38,
     "metadata": {},
     "output_type": "execute_result"
    }
   ],
   "source": [
    "#Extract rows\n",
    "n = 1\n",
    "arr1[:n,:]"
   ]
  },
  {
   "cell_type": "code",
   "execution_count": 39,
   "metadata": {},
   "outputs": [
    {
     "data": {
      "text/plain": [
       "array([[14],\n",
       "       [20],\n",
       "       [ 6],\n",
       "       [12]])"
      ]
     },
     "execution_count": 39,
     "metadata": {},
     "output_type": "execute_result"
    }
   ],
   "source": [
    "#Extract columns\n",
    "n=1\n",
    "arr1[:,:n]"
   ]
  },
  {
   "cell_type": "code",
   "execution_count": 45,
   "metadata": {},
   "outputs": [
    {
     "name": "stdout",
     "output_type": "stream",
     "text": [
      "14\n",
      "[12  4  3 14]\n",
      "[[14 35]\n",
      " [20 11]\n",
      " [ 6  4]\n",
      " [12 36]]\n",
      "[[14 20  6 12]\n",
      " [35 11  4 36]\n",
      " [12  4  3 14]]\n",
      "[[14 20  6 12]\n",
      " [35 11  4 36]\n",
      " [12  4  3 14]]\n",
      "\n",
      "Shape of the array example:\n",
      "(4, 3)\n",
      "\n",
      "np.size example:\n",
      "12\n"
     ]
    }
   ],
   "source": [
    "n = 3\n",
    "m = 2\n",
    "arr1[:n,:m]\n",
    "# Last value\n",
    "print(arr1[-1][-1])\n",
    "\n",
    "# Last column\n",
    "print(arr1[:, -1])\n",
    "\n",
    "# All columns other than last column\n",
    "print(arr1[:, :-1])\n",
    "\n",
    "# Transpose\n",
    "print(np.transpose(arr1))\n",
    "print(arr1.T)\n",
    "\n",
    "# Shape of the array\n",
    "print(\"\\nShape of the array :\")\n",
    "print(arr1.shape)\n",
    "\n",
    "# np.size\n",
    "print(\"\\nnp.size :\")\n",
    "print(np.size(arr1))\n",
    "\n",
    "# Reshape\n",
    "print(\"\\nReshape :\")\n",
    "print(np.reshape(arr1, (3, 2)))\n",
    "\n"
   ]
  },
  {
   "cell_type": "code",
   "execution_count": 48,
   "metadata": {},
   "outputs": [
    {
     "name": "stdout",
     "output_type": "stream",
     "text": [
      "data: \n",
      " [[14 35 12]\n",
      " [20 11  4]\n",
      " [ 6  4  3]\n",
      " [12 36 14]]\n",
      "array type: <class 'numpy.ndarray'>\n",
      "data type: <class 'numpy.int64'>\n",
      "shape: (4, 3)\n",
      "--------------------\n",
      "new axis:\n",
      " [[[14 35 12]]\n",
      "\n",
      " [[20 11  4]]\n",
      "\n",
      " [[ 6  4  3]]\n",
      "\n",
      " [[12 36 14]]]\n",
      "shape:  (4, 1, 3)\n",
      "Row vector:\n",
      "[[1 2 3 4 5]]\n",
      "Shape of row vector: (1, 5)\n",
      "\n",
      "Column vector:\n",
      "[[1]\n",
      " [2]\n",
      " [3]\n",
      " [4]\n",
      " [5]]\n",
      "Shape of column vector: (5, 1)\n"
     ]
    }
   ],
   "source": [
    "arr = np.array([1, 2, 3, 4, 5])\n",
    "\n",
    "# New_axis\n",
    "# Convert a 1D array into either a row vector or a column vector\n",
    "print_array_2d(arr1)\n",
    "print(\"new axis:\\n\",arr1[:, np.newaxis])\n",
    "print(\"shape: \",arr1[:, np.newaxis].shape)\n",
    "\n",
    "# Converting it into a row vector\n",
    "row_vector = arr[np.newaxis, :]\n",
    "print(\"Row vector:\")\n",
    "print(row_vector)\n",
    "print(\"Shape of row vector:\", row_vector.shape)\n",
    "\n",
    "# Converting it into a column vector\n",
    "column_vector = arr[:, np.newaxis]\n",
    "print(\"\\nColumn vector:\")\n",
    "print(column_vector)\n",
    "print(\"Shape of column vector:\", column_vector.shape)\n"
   ]
  },
  {
   "cell_type": "code",
   "execution_count": 52,
   "metadata": {},
   "outputs": [
    {
     "name": "stdout",
     "output_type": "stream",
     "text": [
      "np.where :\n",
      "[[7 8 3]\n",
      " [4 5 6]]\n",
      "\n",
      "Masking :\n",
      "[3 4 5 6]\n",
      "\n",
      "Masked Aggregation functions:\n",
      "np.ma.sum: 18\n",
      "np.ma.mean: 4.5\n",
      "\n",
      "Aggregation functions :\n",
      "np.sum: 21\n",
      "np.average: 3.5\n",
      "np.mean: 3.5\n",
      "np.var: 2.9166666666666665\n",
      "np.std: 1.707825127659933\n",
      "\n",
      "Trigonometric functions :\n",
      "np.cos: [[ 0.54030231 -0.41614684 -0.9899925 ]\n",
      " [-0.65364362  0.28366219  0.96017029]]\n",
      "np.sin: [[ 0.84147098  0.90929743  0.14112001]\n",
      " [-0.7568025  -0.95892427 -0.2794155 ]]\n",
      "np.arctan [[0.78539816 1.10714872 1.24904577]\n",
      " [1.32581766 1.37340077 1.40564765]]\n"
     ]
    }
   ],
   "source": [
    "\n",
    "# Creating sample arrays\n",
    "arr1 = np.array([[1, 2, 3], [4, 5, 6]])\n",
    "arr2 = np.array([[7, 8, 9], [10, 11, 12]])\n",
    "\n",
    "# np.where\n",
    "print(\"np.where :\")\n",
    "print(np.where(arr1 > 2, arr1, arr2))  # If arr1 element > 2, use arr1, else use arr2\n",
    "\n",
    "# Masking -  certain elements in an array are marked as invalid or ignored for computation purposes.\n",
    "print(\"\\nMasking :\")\n",
    "mask = arr1 > 2\n",
    "print(arr1[mask])\n",
    "\n",
    "# Masked aggregation functions\n",
    "# performed while considering only the valid (unmasked) elements, ignoring the masked elements.\n",
    "# usually used to avoid computation on inf, Nan values in the array.\n",
    "print(\"\\nMasked Aggregation functions:\")\n",
    "masked_arr = np.ma.masked_array(arr1, mask=(arr1 < 3))\n",
    "print(\"np.ma.sum:\", np.ma.sum(masked_arr))\n",
    "print(\"np.ma.mean:\", np.ma.mean(masked_arr))\n",
    "\n",
    "# Aggregation functions\n",
    "print(\"\\nAggregation functions :\")\n",
    "print(\"np.sum:\", np.sum(arr1))\n",
    "print(\"np.average:\", np.average(arr1))\n",
    "print(\"np.mean:\", np.mean(arr1))\n",
    "print(\"np.var:\", np.var(arr1))\n",
    "print(\"np.std:\", np.std(arr1))\n",
    "\n",
    "# Trigonometric functions\n",
    "print(\"\\nTrigonometric functions :\")\n",
    "print(\"np.cos:\", np.cos(arr1))\n",
    "print(\"np.sin:\", np.sin(arr1))\n",
    "print(\"np.arctan\", np.arctan(arr1))\n",
    "# difference between acrtan vs arctan2?\n"
   ]
  },
  {
   "cell_type": "code",
   "execution_count": 53,
   "metadata": {},
   "outputs": [
    {
     "name": "stdout",
     "output_type": "stream",
     "text": [
      "\n",
      "Matrix Multiplication examples:\n",
      "Using np.dot:\n",
      "[[ 50  68]\n",
      " [122 167]]\n",
      "Using @ operator:\n",
      "[[ 50  68]\n",
      " [122 167]]\n",
      "Using np.matmul:\n",
      "[[ 50  68]\n",
      " [122 167]]\n",
      "\n",
      "Matrix Division :\n",
      "[[7.  4.  3. ]\n",
      " [2.5 2.2 2. ]]\n"
     ]
    }
   ],
   "source": [
    "# Multiplying matrices\n",
    "print(\"\\nMatrix Multiplication examples:\")\n",
    "# computes the dot product of two arrays. In 2D - matrix multiplication, in 1D - inner product of vectors\n",
    "# for scalars- works as */mutiply\n",
    "print(\"Using np.dot:\")\n",
    "print(np.dot(arr1, arr2.T))  # Matrix multiplication using np.dot\n",
    "\n",
    "# @ is shorthand for matmul\n",
    "# in matlmul, multiplication by scalars is not allowed, use */dot instead\n",
    "# follows (n,k),(k,m)->(n,m) rule for matrix multiplication\n",
    "print(\"Using @ operator:\")\n",
    "print(arr1 @ arr2.T)  # Matrix multiplication using @ operator\n",
    "print(\"Using np.matmul:\")\n",
    "print(np.matmul(arr1, arr2.T))  # Matrix multiplication using np.matmul\n",
    "\n",
    "# Dividing matrices\n",
    "# shorthand for np.divide\n",
    "print(\"\\nMatrix Division :\")\n",
    "print(arr2 / arr1)"
   ]
  },
  {
   "cell_type": "code",
   "execution_count": 66,
   "metadata": {},
   "outputs": [
    {
     "name": "stdout",
     "output_type": "stream",
     "text": [
      "True\n",
      "\n",
      "Array comparison :\n",
      "np.isclose: [[ True  True  True]\n",
      " [ True  True  True]]\n",
      "np.allclose: True\n",
      "np.any: True\n",
      "np.all: True\n",
      "np.equal: [[ True  True  True]\n",
      " [ True  True  True]]\n"
     ]
    }
   ],
   "source": [
    "# Array comparison\n",
    "# important for floating point precision\n",
    "# before starting, try to compare two floating point numbers\n",
    "a = 0.1888888888888888889 + 0.4111111111111111111\n",
    "b = 0.6\n",
    "print(a == b)\n",
    "print(\"\\nArray comparison :\")\n",
    "arr3 = np.array([[1, 2, 3], [4, 5, 6]])\n",
    "print(\"np.isclose:\", np.isclose(arr1, arr3))\n",
    "print(\"np.allclose:\", np.allclose(arr1, arr3))\n",
    "print(\"np.any:\", np.any(arr1 == arr3))\n",
    "print(\"np.all:\", np.all(arr1 == arr3))\n",
    "print(\"np.equal:\", np.equal(arr1, arr3))"
   ]
  },
  {
   "cell_type": "code",
   "execution_count": null,
   "metadata": {},
   "outputs": [],
   "source": [
    "\n",
    "# Square root\n",
    "print(\"\\nSquare root :\")\n",
    "print(np.sqrt(arr1))\n",
    "\n",
    "# Index of max and min\n",
    "print(\"\\nIndex of max and min in an array:\")\n",
    "print(\"np.argmax:\", np.argmax(arr1))\n",
    "print(\"np.argmin:\", np.argmin(arr1))\n",
    "\n",
    "# Axis operations\n",
    "print(\"\\nAxis operations :\")\n",
    "print(\"np.sum(axis=0):\", np.sum(arr1, axis=0))  # Column-wise sum\n",
    "print(\"np.unique:\", np.unique(arr1))\n",
    "\n",
    "# Append and insert\n",
    "# difference between append and insert?\n",
    "print(\"\\nAppend and insert :\")\n",
    "print(\"np.append:\", np.append(arr1, [[7, 8, 9]], axis=0))\n",
    "print(\"np.insert:\", np.insert(arr1, 1, [7, 8, 9], axis=0))\n",
    "\n",
    "# Rounding\n",
    "print(\"\\nRounding :\")\n",
    "arr4 = np.array([1.23, 2.35, 3.67])\n",
    "print(np.around(arr4))"
   ]
  },
  {
   "cell_type": "code",
   "execution_count": null,
   "metadata": {},
   "outputs": [],
   "source": [
    "\n",
    "# Stack operations\n",
    "print(\"\\nStack operations :\")\n",
    "print(\"np.column_stack:\")\n",
    "print(np.column_stack((arr1, arr2)))\n",
    "print(\"np.vstack:\")\n",
    "print(np.vstack((arr1, arr2)))\n",
    "print(\"np.hstack:\")\n",
    "print(np.hstack((arr1, arr2)))"
   ]
  },
  {
   "cell_type": "markdown",
   "metadata": {},
   "source": [
    "## Practice Problem "
   ]
  },
  {
   "cell_type": "markdown",
   "metadata": {},
   "source": [
    "### You are working on a project to analyze temperature data collected from weather stations across different cities. The data is stored in a CSV file, where each row represents a day's temperature readings for a specific city. Each row contains the daily high and low temperatures recorded for that day. Your task is to use NumPy to analyze the temperature data and extract useful insights.\n",
    "\n",
    "#### Tasks:\n",
    "\n",
    "* Load the temperature data from the CSV file into a NumPy array.\n",
    "* Calculate and print the mean, median, maximum, and minimum daily high and low temperatures across all cities.\n",
    "* Identify and print the city(s) with the highest average daily high temperature and the lowest average daily low temperature.\n",
    "* Determine and print the number of days where the temperature difference (high minus low) exceeds 10 degrees Celsius.\n",
    "* Compute and print the percentage of days where the daily high temperature exceeds 30 degrees Celsius for each city."
   ]
  },
  {
   "cell_type": "markdown",
   "metadata": {},
   "source": []
  },
  {
   "cell_type": "code",
   "execution_count": 100,
   "metadata": {},
   "outputs": [
    {
     "name": "stdout",
     "output_type": "stream",
     "text": [
      "1.0 3 3\n",
      "0.0 0 3\n",
      "0.0 0 3\n",
      "1.0 3 3\n",
      "0.0 0 3\n",
      "2.0 6 3\n",
      "1.0 3 3\n",
      "0.0 0 3\n",
      "0.0 0 3\n",
      "3.0 9 3\n",
      "0.0 0 3\n",
      "0.0 0 3\n",
      "[['New York' '28' '17']\n",
      " ['Los Angeles' '30' '18']\n",
      " ['Los Angeles' '28' '16']\n",
      " ['Los Angeles' '32' '20']\n",
      " ['Denver' '28' '15']\n",
      " ['Denver' '26' '14']\n",
      " ['Denver' '30' '18']\n",
      " ['Atlanta' '29' '18']\n",
      " ['Atlanta' '28' '17']\n",
      " ['Atlanta' '31' '20']\n",
      " ['Boston' '23' '12']\n",
      " ['Boston' '22' '11']]\n"
     ]
    }
   ],
   "source": [
    "data = np.genfromtxt('city.csv', delimiter=',', dtype=None, encoding=None )\n",
    "data = np.array(data)[1:]\n",
    "# print(data)\n",
    "# mean\n",
    "\n",
    "daily_high = data[:, 1].astype(float)\n",
    "daily_low = data[:, 2].astype(float)\n",
    "\n",
    "# Calculate mean, median, maximum, and minimum temperatures\n",
    "mean_high = np.mean(daily_high)\n",
    "median_high = np.median(daily_high)\n",
    "max_high = np.max(daily_high)\n",
    "min_high = np.min(daily_high)\n",
    "\n",
    "mean_low = np.mean(daily_low)\n",
    "median_low = np.median(daily_low)\n",
    "max_low = np.max(daily_low)\n",
    "min_low = np.min(daily_low)\n",
    "\n",
    "cities = np.unique(data[:, 0])\n",
    "\n",
    "# Calculate average daily high and low temperatures for each city\n",
    "avg_high_by_city = []\n",
    "avg_low_by_city = []\n",
    "\n",
    "for city in cities:\n",
    "    city_data = data[data[:, 0] == city]\n",
    "    avg_high = np.mean(city_data[:, 1].astype(float))\n",
    "    avg_low = np.mean(city_data[:, 2].astype(float))\n",
    "    avg_high_by_city.append((city, avg_high))\n",
    "    avg_low_by_city.append((city, avg_low))\n",
    "    days = np.size(city_data[city_data[:,1].astype(float) > 30.0])\n",
    "    percentage = days/city_data.shape[0]\n",
    "    print(percentage, days, city_data.shape[0])\n",
    "\n",
    "# Identify city with highest average daily high temperature\n",
    "highest_avg_high = max(avg_high_by_city, key=lambda x: x[1])\n",
    "\n",
    "# Identify city with lowest average daily low temperature\n",
    "lowest_avg_low = min(avg_low_by_city, key=lambda x: x[1])\n",
    "\n",
    "indices = np.where(daily_high - daily_low > 10)\n",
    "print(data[indices])\n",
    "\n"
   ]
  },
  {
   "cell_type": "code",
   "execution_count": null,
   "metadata": {},
   "outputs": [],
   "source": []
  }
 ],
 "metadata": {
  "kernelspec": {
   "display_name": "Python 3 (ipykernel)",
   "language": "python",
   "name": "python3"
  },
  "language_info": {
   "codemirror_mode": {
    "name": "ipython",
    "version": 3
   },
   "file_extension": ".py",
   "mimetype": "text/x-python",
   "name": "python",
   "nbconvert_exporter": "python",
   "pygments_lexer": "ipython3",
   "version": "3.9.6"
  }
 },
 "nbformat": 4,
 "nbformat_minor": 4
}
