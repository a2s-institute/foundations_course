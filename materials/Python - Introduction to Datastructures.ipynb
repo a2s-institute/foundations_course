{
 "cells": [
  {
   "cell_type": "markdown",
   "id": "178a8562-bcfc-46f2-b78d-0e0c9fb95f2e",
   "metadata": {},
   "source": [
    "## Summer Semester 2024: Introduction to Data Structures in Python\n",
    "\n",
    "**Welcome to the Data Structures in Python course!**\n",
    "\n",
    "This Jupyter Notebook serves as an introduction to fundamental data structures essential for Python programming. \n",
    "\n",
    "**Course Outline:**\n",
    "\n",
    "* **Lists:** Ordered, mutable collections that can store elements of diverse data types.\n",
    "* **Tuples:** Ordered, immutable collections similar to lists but cannot be modified after creation.\n",
    "* **Sets:** Unordered collections containing unique elements only. Sets are mutable, allowing additions and removals.\n",
    "* **Dictionaries:** Unordered, mutable collections with key-value pairs. Keys are unique and used for efficient data retrieval.\n",
    "* **Stacks:** LIFO (Last-In-First-Out) data structures, where elements are added and removed from the top.\n",
    "* **Queues:** FIFO (First-In-First-Out) data structures, where elements are added to the back and removed from the front.\n",
    "* **Priority Queues:** Similar to queues, but elements are prioritized based on a specific value (higher priority elements are retrieved first).\n",
    "\n",
    "**Learning Objectives:**\n",
    "\n",
    "* Gain a comprehensive understanding of each data structure's properties (ordered/unordered, mutable/immutable).\n",
    "* Explore common operations like insertion, deletion, searching, and iteration for each structure.\n",
    "\n",
    "**Instructor:**\n",
    "\n",
    "Vivek Mannava\n",
    "\n",
    "**Resources:**\n",
    "\n",
    "* This Jupyter Notebook will serve as a foundational guide.\n",
    "* Additional resources can be found at [Python Data Structures](https://realpython.com/python-data-structures/).\n",
    "\n",
    "**Let's embark on our journey into the world of Python data structures!**"
   ]
  },
  {
   "cell_type": "markdown",
   "id": "90c4cf51-7a2c-4327-890b-298cde41f855",
   "metadata": {},
   "source": [
    "## Lists\n",
    "\n",
    "Lists are fundamental data structures in Python. They are **ordered**, **mutable** collections that can store elements of **various data types**. This makes them versatile for storing diverse information.\n",
    "\n",
    "**Key characteristics of Lists:**\n",
    "\n",
    "* **Ordered:** Elements in a list have a specific sequence and maintain their position. You can access elements based on their index (starting from 0).\n",
    "* **Mutable:** Lists can be modified after creation. You can add, remove, or change elements within the list.\n",
    "* **Hold multiple data types:** A single list can store elements of different data types like integers, strings, floats, etc."
   ]
  },
  {
   "cell_type": "code",
   "execution_count": 59,
   "id": "e7d0ce49-e160-4e79-8f42-173981459074",
   "metadata": {},
   "outputs": [
    {
     "name": "stdout",
     "output_type": "stream",
     "text": [
      "<class 'list'>\n"
     ]
    }
   ],
   "source": [
    "# syntax:\n",
    "\n",
    "my_list = [1,2,3,4,5] \n",
    "print(type(my_list))\n",
    "\n",
    "# create a empty list\n",
    "my_list = []"
   ]
  },
  {
   "cell_type": "markdown",
   "id": "76b360dd-b4a4-41fb-bef9-9f66ffe86c4a",
   "metadata": {},
   "source": [
    "### Indexing in Lists\n",
    "\n",
    "One powerful feature of lists in Python is **indexing**. It allows you to access and manipulate specific elements within the list using their **position**. \n",
    "\n",
    "**Key points about Indexing:**\n",
    "\n",
    "* **Index starts from 0:** The first element in a list has an index of 0, the second element has an index of 1, and so on.\n",
    "* **Positive Indexing:** Positive indexes are used to access elements from the beginning of the list. \n",
    "* **Negative Indexing:** Negative indexes start from -1 and are used to access elements from the end of the list. -1 refers to the last element, -2 refers to the second-last element, and so on.\n",
    "\n"
   ]
  },
  {
   "cell_type": "code",
   "execution_count": 60,
   "id": "4e9ff736-e870-4bfe-99d8-9d44855e3fb4",
   "metadata": {},
   "outputs": [
    {
     "name": "stdout",
     "output_type": "stream",
     "text": [
      "Element at index 3 is Google\n",
      "\n",
      "The last item is OpenAI\n",
      "\n",
      "First 3 elements are ['Apple', 'Netflix', 'Meta']\n",
      "Last 3 elements are ['Google', 'Tesla', 'OpenAI']\n",
      "Middle 3 elements are ['Netflix', 'Meta', 'Google']\n"
     ]
    }
   ],
   "source": [
    "my_list = [\"Apple\", \"Netflix\", \"Meta\", \"Google\", \"Tesla\", \"OpenAI\"]\n",
    "\n",
    "# specific index \n",
    "print(f\"Element at index 3 is {my_list[3]}\\n\") \n",
    "\n",
    "# using negative indexing\n",
    "print(f\"The last item is {my_list[-1]}\\n\")\n",
    "\n",
    "# index slicing - fetching a group of indices\n",
    "print(f\"First 3 elements are {my_list[:3]}\")\n",
    "\n",
    "print(f\"Last 3 elements are {my_list[-3:]}\")\n",
    "\n",
    "print(f\"Middle 3 elements are {my_list[1:4]}\")"
   ]
  },
  {
   "cell_type": "code",
   "execution_count": 61,
   "id": "2cbdfc53-485c-450f-9dc4-9276bfad0e5e",
   "metadata": {},
   "outputs": [
    {
     "name": "stdout",
     "output_type": "stream",
     "text": [
      "Modified list is ['Apple', 'Netflix', 'Facebook', 'Google', 'Tesla', 'OpenAI']\n",
      "\n",
      "List after adding Microsoft is ['Apple', 'Netflix', 'Facebook', 'Google', 'Tesla', 'OpenAI', 'Microsoft']\n",
      "\n",
      "List after removing Tesla is ['Apple', 'Netflix', 'Facebook', 'Google', 'OpenAI', 'Microsoft']\n",
      "\n",
      "List after popping last element is ['Apple', 'Netflix', 'Facebook', 'Google', 'OpenAI']\n",
      "\n",
      "List after inserting Tesla is ['Apple', 'Netflix', 'Tesla', 'Facebook', 'Google', 'OpenAI']\n",
      "\n",
      "List after extending is ['Apple', 'Netflix', 'Tesla', 'Facebook', 'Google', 'OpenAI', 'SpaceX', 'Amazon']\n",
      "\n",
      "Length of list is 8\n",
      "\n",
      "Sorted list is ['Amazon', 'Apple', 'Facebook', 'Google', 'Netflix', 'OpenAI', 'SpaceX', 'Tesla']\n",
      "\n",
      "Reversed list is ['Tesla', 'SpaceX', 'OpenAI', 'Netflix', 'Google', 'Facebook', 'Apple', 'Amazon']\n",
      "\n"
     ]
    }
   ],
   "source": [
    "my_list = [\"Apple\", \"Netflix\", \"Meta\", \"Google\", \"Tesla\", \"OpenAI\"]\n",
    "# changing elements in list\n",
    "my_list[2] = \"Facebook\"\n",
    "print(f\"Modified list is {my_list}\\n\")\n",
    "\n",
    "# adding elements to list\n",
    "my_list.append(\"Microsoft\")\n",
    "print(f\"List after adding Microsoft is {my_list}\\n\")\n",
    "\n",
    "# removing elements from list\n",
    "my_list.remove(\"Tesla\")\n",
    "print(f\"List after removing Tesla is {my_list}\\n\")\n",
    "\n",
    "# pop method\n",
    "my_list.pop()\n",
    "print(f\"List after popping last element is {my_list}\\n\")\n",
    "\n",
    "# insert method\n",
    "my_list.insert(2, \"Tesla\")\n",
    "print(f\"List after inserting Tesla is {my_list}\\n\")\n",
    "\n",
    "# extend method\n",
    "my_list.extend([\"SpaceX\", \"Amazon\"])\n",
    "print(f\"List after extending is {my_list}\\n\")\n",
    "\n",
    "# length of list\n",
    "print(f\"Length of list is {len(my_list)}\\n\")\n",
    "\n",
    "# sorting list\n",
    "my_list.sort()\n",
    "print(f\"Sorted list is {my_list}\\n\")\n",
    "\n",
    "# reverse list\n",
    "my_list.reverse()\n",
    "print(f\"Reversed list is {my_list}\\n\")\n"
   ]
  },
  {
   "cell_type": "code",
   "execution_count": 62,
   "id": "e9e7fd77",
   "metadata": {},
   "outputs": [
    {
     "name": "stdout",
     "output_type": "stream",
     "text": [
      "List of lists is [[1, 2, 3], [4, 5, 6], [7, 8, 9]]\n",
      "\n",
      "Element at index 1,1 is 5\n",
      "\n",
      "Squared list is [0, 1, 4, 9, 16, 25, 36, 49, 64, 81]\n",
      "\n",
      "Even numbers are [0, 2, 4, 6, 8]\n",
      "\n",
      "List with nested loop is ['Python Language', 'Python Programming', 'C++ Language', 'C++ Programming']\n",
      "\n",
      "List with if else is ['Even', 'Odd', 'Even', 'Odd', 'Even', 'Odd', 'Even', 'Odd', 'Even', 'Odd']\n",
      "\n"
     ]
    }
   ],
   "source": [
    "# list of lists\n",
    "my_list = [[1,2,3], [4,5,6], [7,8,9]]\n",
    "print(f\"List of lists is {my_list}\\n\")\n",
    "\n",
    "# accessing elements of list of lists\n",
    "print(f\"Element at index 1,1 is {my_list[1][1]}\\n\")\n",
    "\n",
    "# list comprehension\n",
    "squared = [x**2 for x in range(10)]\n",
    "print(f\"Squared list is {squared}\\n\")\n",
    "\n",
    "# list comprehension with condition\n",
    "print(f\"Even numbers are {[x for x in range(10) if x%2==0]}\\n\")\n",
    "\n",
    "# list comprehension with nested loop\n",
    "my_list = [x+' '+y for x in ['Python', 'C++'] for y in ['Language', 'Programming']]\n",
    "print(f\"List with nested loop is {my_list}\\n\")\n",
    "\n",
    "# list comprehension with if else\n",
    "print(f\"List with if else is {['Even' if x%2==0 else 'Odd' for x in range(10)]}\\n\")\n"
   ]
  },
  {
   "cell_type": "markdown",
   "id": "4cc4d606",
   "metadata": {},
   "source": [
    "## Tuples in Python\n",
    "\n",
    "Tuples are another fundamental data structure in Python. They share some similarities with lists but have a crucial distinction: **immutability**.\n",
    "\n",
    "* **Ordered:** Similar to lists, elements in a tuple have a defined order and can be accessed using their index.\n",
    "* **Hold multiple data types:** A single tuple can store elements of different data types like integers, strings, floats, etc.\n",
    "* **Immutable:** Unlike lists, elements within a tuple cannot be modified after creation. You cannot add, remove, or change the content of a tuple. \n",
    "\n",
    "**Key Difference from Lists:**\n",
    "\n",
    "* **Immutability:** This is the defining characteristic of tuples. Once a tuple is created, its elements become fixed."
   ]
  },
  {
   "cell_type": "code",
   "execution_count": 63,
   "id": "502ff8bc",
   "metadata": {},
   "outputs": [
    {
     "name": "stdout",
     "output_type": "stream",
     "text": [
      "first element is 1\n",
      "\n",
      "last element is 5\n",
      "\n",
      "'tuple' object does not support item assignment\n",
      "<class 'tuple'>\n"
     ]
    }
   ],
   "source": [
    "my_tuple = (1, 2, 3, 4, 5)\n",
    "\n",
    "### Indexing\n",
    "print(f\"first element is {my_tuple[0]}\\n\")\n",
    "print(f\"last element is {my_tuple[-1]}\\n\")\n",
    "\n",
    "try:\n",
    "    my_tuple[0] = 10\n",
    "except TypeError as e:\n",
    "    print(e) # 'tuple' object does not support item assignment\n",
    "\n",
    "# create an empty tuple\n",
    "my_tuple = ()\n",
    "print(type(my_tuple))\n"
   ]
  },
  {
   "cell_type": "markdown",
   "id": "05f6015b",
   "metadata": {},
   "source": [
    "## Sets in Python\n",
    "\n",
    "Sets are another essential data structure in Python, offering unique properties for handling collections of elements.\n",
    "\n",
    "* **Unordered:** Unlike lists and tuples, elements in a set do not have a specific order. The order may change when you display the set.\n",
    "* **No Duplicates:** Sets contain unique elements only. If you try to add a duplicate element, it will be ignored.\n",
    "* **Mutable:** Sets allow you to modify their contents after creation. You can add or remove elements.\n",
    "\n",
    "**Key Characteristics of Sets:**\n",
    "\n",
    "* **Unordered nature:**  Elements are not stored in a specific sequence. Accessing elements by index is not possible.\n",
    "* **Uniqueness:** Duplicates are not allowed. Adding an element that already exists in the set won't create another copy."
   ]
  },
  {
   "cell_type": "code",
   "execution_count": 64,
   "id": "ea1cd4d8",
   "metadata": {},
   "outputs": [
    {
     "name": "stdout",
     "output_type": "stream",
     "text": [
      "Set after adding 6 is {1, 2, 3, 4, 5, 6}\n",
      "\n",
      "Set after removing 6 is {1, 2, 3, 4, 5}\n",
      "\n",
      "Union of set1 and set2 is {1, 2, 3, 4, 5, 6, 7, 8}\n",
      "\n",
      "Intersection of set1 and set2 is {4, 5}\n",
      "\n",
      "Difference of set1 and set2 is {1, 2, 3}\n",
      "\n",
      "Symmetric difference of set1 and set2 is {1, 2, 3, 6, 7, 8}\n",
      "\n",
      "Set comprehension is {0, 1, 2, 3, 4, 5, 6, 7, 8, 9}\n",
      "\n",
      "<class 'set'>\n"
     ]
    }
   ],
   "source": [
    "# creating a set\n",
    "my_set = {1, 2, 3, 4, 5}\n",
    "\n",
    "# adding elements to set\n",
    "my_set.add(6)\n",
    "print(f\"Set after adding 6 is {my_set}\\n\")\n",
    "\n",
    "# removing elements from set\n",
    "my_set.remove(6)\n",
    "print(f\"Set after removing 6 is {my_set}\\n\")\n",
    "\n",
    "# set operations\n",
    "set1 = {1, 2, 3, 4, 5}\n",
    "set2 = {4, 5, 6, 7, 8}\n",
    "\n",
    "print(f\"Union of set1 and set2 is {set1.union(set2)}\\n\")\n",
    "\n",
    "print(f\"Intersection of set1 and set2 is {set1.intersection(set2)}\\n\")\n",
    "\n",
    "print(f\"Difference of set1 and set2 is {set1.difference(set2)}\\n\")\n",
    "\n",
    "print(f\"Symmetric difference of set1 and set2 is {set1.symmetric_difference(set2)}\\n\")\n",
    "\n",
    "# set comprehension\n",
    "my_set = {x for x in range(10)}\n",
    "\n",
    "print(f\"Set comprehension is {my_set}\\n\")\n",
    "\n",
    "\n",
    "# create an empty set\n",
    "my_set = set()\n",
    "print(type(my_set))\n"
   ]
  },
  {
   "cell_type": "markdown",
   "id": "79afe18c",
   "metadata": {},
   "source": [
    "## Dictionaries in Python\n",
    "\n",
    "Dictionaries are powerful data structures in Python. They store data in a **key-value** pair, offering a flexible way to organize information.\n",
    "\n",
    "* **Unordered:** Similar to sets, the order of elements in a dictionary is not guaranteed. Keys define the retrieval method, not the order.\n",
    "* **Mutable:** You can modify elements (key-value pairs) after creating the dictionary.\n",
    "* **Hold multiple data types:** A single dictionary can store elements of different data types like integers, strings, floats, etc. \n",
    "\n",
    "**Key Characteristic: Key-Value Pairs**\n",
    "\n",
    "* **Keys:**  Unique identifiers used to access elements in the dictionary. Keys must be immutable (e.g., strings, numbers, tuples).\n",
    "* **Values:** The actual data associated with each key. Values can be of any data type."
   ]
  },
  {
   "cell_type": "code",
   "execution_count": 65,
   "id": "342cdc46",
   "metadata": {},
   "outputs": [
    {
     "name": "stdout",
     "output_type": "stream",
     "text": [
      "Name is John\n",
      "\n",
      "Age is 25\n",
      "\n",
      "Modified dictionary is {'name': 'John', 'age': 26, (1, 2, 3): 'Downtown'}\n",
      "\n",
      "Keys are dict_keys(['name', 'age'])\n",
      "\n",
      "Values are dict_values(['John', 26])\n",
      "\n",
      "Items are dict_items([('name', 'John'), ('age', 26)])\n",
      "\n",
      "Dictionary comprehension is {0: 0, 1: 1, 2: 4, 3: 9, 4: 16, 5: 25, 6: 36, 7: 49, 8: 64, 9: 81}\n",
      "\n",
      "<class 'dict'>\n"
     ]
    }
   ],
   "source": [
    "# create a dictionary\n",
    "my_dict = {'name': 'John', 'age': 25}\n",
    "\n",
    "# accessing elements of dictionary\n",
    "print(f\"Name is {my_dict['name']}\\n\")\n",
    "print(f\"Age is {my_dict['age']}\\n\")\n",
    "\n",
    "# changing elements of dictionary\n",
    "my_dict['age'] = 26\n",
    "\n",
    "# adding elements to dictionary\n",
    "my_dict[(1,2,3)] = 'Downtown' # tuple as key\n",
    "print(f\"Modified dictionary is {my_dict}\\n\")\n",
    "\n",
    "# removing elements from dictionary\n",
    "del my_dict[(1,2,3)]\n",
    "\n",
    "# dictionary operations\n",
    "print(f\"Keys are {my_dict.keys()}\\n\")\n",
    "print(f\"Values are {my_dict.values()}\\n\")\n",
    "print(f\"Items are {my_dict.items()}\\n\")\n",
    "\n",
    "# dictionary comprehension\n",
    "my_dict = {x: x**2 for x in range(10)}\n",
    "print(f\"Dictionary comprehension is {my_dict}\\n\")\n",
    "\n",
    "# create an empty dictionary\n",
    "my_dict = {}\n",
    "print(type(my_dict))\n"
   ]
  },
  {
   "cell_type": "code",
   "execution_count": 66,
   "id": "814becc5",
   "metadata": {},
   "outputs": [
    {
     "name": "stdout",
     "output_type": "stream",
     "text": [
      "name : John\n",
      "age : 25\n",
      "address : Downtown\n",
      "\n",
      "name : John\n",
      "age : 25\n",
      "address : Downtown\n"
     ]
    }
   ],
   "source": [
    "## using iteration with dictionary\n",
    "my_dict = {'name': 'John', 'age': 25, 'address': 'Downtown'}\n",
    "\n",
    "for key, value in my_dict.items():\n",
    "    print(f\"{key} : {value}\")\n",
    "\n",
    "print(\"\")\n",
    "\n",
    "for key in my_dict.keys():\n",
    "    print(f\"{key} : {my_dict[key]}\")"
   ]
  },
  {
   "cell_type": "markdown",
   "id": "5c8d65cb",
   "metadata": {},
   "source": [
    "## Ordered Dictionary\n",
    "\n",
    "The `OrderedDict` was previously a valuable data structure in Python, offering a way to maintain the insertion order of keys within a dictionary. It belonged to the `collections` module. Now, since Python 3.7, the built-in `dict` class itself maintains the insertion order of keys. This significantly reduced the need for `OrderedDict` in most scenarios.\n",
    "\n",
    "**Key Characteristic:**\n",
    "\n",
    "* **Preserves Insertion Order:** Unlike regular dictionaries, `OrderedDict` ensured that elements were retrieved and iterated over in the same order they were added.\n",
    "\n",
    "**Use Cases:**\n",
    "\n",
    "* **Maintaining Order is Crucial:** In specific situations where preserving the exact order of key insertion is essential, `OrderedDict` can still be employed.\n",
    "* **Legacy Code Compatibility:** If you're working with older code that relies on `OrderedDict` functionality, it might be necessary to continue using it for compatibility purposes.\n",
    "\n"
   ]
  },
  {
   "cell_type": "code",
   "execution_count": 67,
   "id": "8cefcab3",
   "metadata": {},
   "outputs": [
    {
     "name": "stdout",
     "output_type": "stream",
     "text": [
      "Ordered dictionary is OrderedDict([('name', 'John'), ('age', 25), ('address', 'Downtown')])\n",
      "\n",
      "Default dictionary is defaultdict(<class 'int'>, {'name': 'John', 'age': 25, 'phone number': 0})\n",
      "\n"
     ]
    }
   ],
   "source": [
    "# creating ordered dictionary\n",
    "from collections import OrderedDict\n",
    "\n",
    "my_dict = OrderedDict({'name': 'John', 'age': 25, 'address': 'Downtown'})\n",
    "print(f\"Ordered dictionary is {my_dict}\\n\")\n",
    "\n",
    "# creating default dictionary\n",
    "from collections import defaultdict\n",
    "\n",
    "my_dict = defaultdict(int) # int is the default value, and in case of missing key, it will return 0\n",
    "my_dict['name'] = 'John'\n",
    "my_dict['age'] = 25\n",
    "my_dict[\"phone number\"] # it will return 0\n",
    "print(f\"Default dictionary is {my_dict}\\n\")"
   ]
  },
  {
   "cell_type": "markdown",
   "id": "e8a94d16",
   "metadata": {},
   "source": [
    "## Named Tuples in Python\n",
    "\n",
    "Named tuples, introduced in Python 2.6, offer an enhancement over traditional tuples by providing a way to **associate names with elements**. This makes the code more readable and easier to understand.\n",
    "\n",
    "* **Subclass of Tuples:** Named tuples inherit properties from regular tuples, including being **ordered** and **immutable**.\n",
    "* **Named Fields:** Each element in a named tuple can be accessed using a descriptive name instead of its numerical index.\n",
    "\n",
    "**Key Benefit: Improved Readability**\n",
    "\n",
    "* Using names instead of indexes clarifies the meaning and purpose of each element within the tuple.\n"
   ]
  },
  {
   "cell_type": "code",
   "execution_count": 68,
   "id": "e479c209",
   "metadata": {},
   "outputs": [
    {
     "name": "stdout",
     "output_type": "stream",
     "text": [
      "Named tuple is Person(name='John', age=25)\n",
      "\n",
      "Name is John\n",
      "\n",
      "Age is 25\n",
      "\n"
     ]
    }
   ],
   "source": [
    "# creating named tuple\n",
    "from collections import namedtuple\n",
    "\n",
    "Person = namedtuple('Person', 'name age') # Person is the name of the tuple, and name and age are the fields\n",
    "\n",
    "p = Person('John', 25)\n",
    "print(f\"Named tuple is {p}\\n\")\n",
    "\n",
    "# operations on named tuple\n",
    "print(f\"Name is {p.name}\\n\")\n",
    "print(f\"Age is {p.age}\\n\")\n"
   ]
  },
  {
   "cell_type": "markdown",
   "id": "38881024",
   "metadata": {},
   "source": [
    "## Stacks and Queues\n",
    "\n",
    "Stacks and Queues are data structures that are used to store data in a particular order.\n",
    "\n",
    "Stacks are LIFO (Last In First Out) and Queues are FIFO (First In First Out)\n",
    "\n",
    "Implementing Stacks and Queues using different data structures is also discussed in this notebook."
   ]
  },
  {
   "cell_type": "markdown",
   "id": "6165a347",
   "metadata": {},
   "source": [
    "### Stack using List\n",
    "\n",
    "Stack can be implemented using a list. The append() method is used to push an element to the stack and the pop() method is used to pop an element from the stack. Should be noted that the pop() method without any index, pops the last element from the list. Only append() and pop() methods are used to implement the stack. Backend implementation is still slower than using a deque."
   ]
  },
  {
   "cell_type": "code",
   "execution_count": 69,
   "id": "ee166f67",
   "metadata": {},
   "outputs": [
    {
     "name": "stdout",
     "output_type": "stream",
     "text": [
      "Element popped is 3\n",
      "\n",
      "Element popped is 2\n",
      "\n",
      "Element popped is 1\n",
      "\n",
      "pop from empty list\n"
     ]
    }
   ],
   "source": [
    "# stack using list\n",
    "stack = [1, 2, 3]\n",
    "\n",
    "for i in range(4):\n",
    "    try:\n",
    "        dummy_var = stack.pop()\n",
    "        print(f\"Element popped is {dummy_var}\\n\")\n",
    "    except IndexError as e:\n",
    "        print(e) # pop from empty list \n"
   ]
  },
  {
   "cell_type": "markdown",
   "id": "7861a9d4",
   "metadata": {},
   "source": [
    "### Stack using deque\n",
    "\n",
    "Stack can also be implemented using the deque class from the collections module. The append() method is used to push an element to the stack and the pop() method is used to pop an element from the stack.\n",
    "\n",
    "The time complexity of the pop() method is O(1), meaning it takes constant time to pop an element from the stack, irrespective of the number of elements in the stack. The final result is the same as using a list, but the time taken is less, especially for large number of elements."
   ]
  },
  {
   "cell_type": "code",
   "execution_count": 70,
   "id": "00e11f63",
   "metadata": {},
   "outputs": [
    {
     "name": "stdout",
     "output_type": "stream",
     "text": [
      "Element popped is 3\n",
      "\n",
      "Element popped is 2\n",
      "\n",
      "Element popped is 1\n",
      "\n",
      "pop from an empty deque\n"
     ]
    }
   ],
   "source": [
    "# stack using deque\n",
    "from collections import deque\n",
    "\n",
    "stack = deque([1, 2, 3])\n",
    "\n",
    "for i in range(4):\n",
    "    try:\n",
    "        dummy_var = stack.pop()\n",
    "        print(f\"Element popped is {dummy_var}\\n\")\n",
    "    except IndexError as e:\n",
    "        print(e) # pop from empty list\n",
    "\n"
   ]
  },
  {
   "cell_type": "markdown",
   "id": "d771d2d9",
   "metadata": {},
   "source": [
    "### Queue using List\n",
    "\n",
    "Queue can be implemented using a list. The append() method is used to add an element to the queue and the pop(0) method is used to remove an element from the queue.\n",
    "\n",
    "Not recommended for large number of elements, as the pop(0) method has a time complexity of O(n), meaning it takes more time as the number of elements in the list increases, as it has to shift the elements to fill the gap created by the pop operation."
   ]
  },
  {
   "cell_type": "code",
   "execution_count": 71,
   "id": "ca743171",
   "metadata": {},
   "outputs": [
    {
     "name": "stdout",
     "output_type": "stream",
     "text": [
      "Element popped is 1\n",
      "\n",
      "Element popped is 2\n",
      "\n",
      "Element popped is 3\n",
      "\n",
      "pop from empty list\n"
     ]
    }
   ],
   "source": [
    "### Queue using list\n",
    "\n",
    "queue = []\n",
    "\n",
    "queue.append(1)\n",
    "queue.append(2)\n",
    "queue.append(3)\n",
    "\n",
    "for i in range(4):\n",
    "    try:\n",
    "        dummy_var = queue.pop(0) # pop from front\n",
    "        print(f\"Element popped is {dummy_var}\\n\")\n",
    "    except IndexError as e:\n",
    "        print(e) # pop from empty list"
   ]
  },
  {
   "cell_type": "markdown",
   "id": "97c7d604",
   "metadata": {},
   "source": [
    "### Queue using deque\n",
    "\n",
    "Queue can also be implemented using the deque class from the collections module. The append() method is used to add an element to the queue and the popleft() method is used to remove an element from the queue.   \n",
    "\n",
    "Faster than using a list, especially for large number of elements, as the popleft() method has a time complexity of O(1), meaning it takes constant time to remove an element from the queue, irrespective of the number of elements in the queue."
   ]
  },
  {
   "cell_type": "code",
   "execution_count": 72,
   "id": "7280ba1a",
   "metadata": {},
   "outputs": [
    {
     "name": "stdout",
     "output_type": "stream",
     "text": [
      "Element popped is 1\n",
      "\n",
      "Element popped is 2\n",
      "\n",
      "Element popped is 3\n",
      "\n",
      "pop from an empty deque\n"
     ]
    }
   ],
   "source": [
    "# Queue using deque\n",
    "from collections import deque\n",
    "\n",
    "queue = deque([1, 2, 3])\n",
    "\n",
    "for i in range(4):\n",
    "\n",
    "    try:\n",
    "        dummy_var = queue.popleft() # pop from front\n",
    "        print(f\"Element popped is {dummy_var}\\n\")\n",
    "    except IndexError as e:\n",
    "        print(e) # pop from empty list\n",
    "\n"
   ]
  },
  {
   "cell_type": "markdown",
   "id": "bb431a08",
   "metadata": {},
   "source": [
    " ### Queue using queue \n",
    "\n"
   ]
  },
  {
   "cell_type": "markdown",
   "id": "3e517421",
   "metadata": {},
   "source": [
    "Queue can also be implemented using the queue class from the queue module. The put() method is used to add an element to the queue and the get() method is used to remove an element from the queue.\n",
    "\n",
    "The queue class is used when we want to use the queue in a multi-threaded environment, as it provides synchronization and locking mechanisms to ensure that the queue is thread-safe. Sometimes the overhead is not required, so deque is used instead of queue. "
   ]
  },
  {
   "cell_type": "code",
   "execution_count": 73,
   "id": "e229dc15",
   "metadata": {},
   "outputs": [
    {
     "name": "stdout",
     "output_type": "stream",
     "text": [
      "Element popped is 1\n",
      "\n",
      "Element popped is 2\n",
      "\n"
     ]
    },
    {
     "ename": "KeyboardInterrupt",
     "evalue": "",
     "output_type": "error",
     "traceback": [
      "\u001b[0;31m---------------------------------------------------------------------------\u001b[0m",
      "\u001b[0;31mKeyboardInterrupt\u001b[0m                         Traceback (most recent call last)",
      "Cell \u001b[0;32mIn[73], line 11\u001b[0m\n\u001b[1;32m      9\u001b[0m \u001b[38;5;28;01mfor\u001b[39;00m i \u001b[38;5;129;01min\u001b[39;00m \u001b[38;5;28mrange\u001b[39m(\u001b[38;5;241m3\u001b[39m):\n\u001b[1;32m     10\u001b[0m     \u001b[38;5;28;01mtry\u001b[39;00m:\n\u001b[0;32m---> 11\u001b[0m         dummy_var \u001b[38;5;241m=\u001b[39m \u001b[43mqueue\u001b[49m\u001b[38;5;241;43m.\u001b[39;49m\u001b[43mget\u001b[49m\u001b[43m(\u001b[49m\u001b[43m)\u001b[49m \u001b[38;5;66;03m# pop from front\u001b[39;00m\n\u001b[1;32m     12\u001b[0m         \u001b[38;5;28mprint\u001b[39m(\u001b[38;5;124mf\u001b[39m\u001b[38;5;124m\"\u001b[39m\u001b[38;5;124mElement popped is \u001b[39m\u001b[38;5;132;01m{\u001b[39;00mdummy_var\u001b[38;5;132;01m}\u001b[39;00m\u001b[38;5;130;01m\\n\u001b[39;00m\u001b[38;5;124m\"\u001b[39m)\n\u001b[1;32m     13\u001b[0m     \u001b[38;5;28;01mexcept\u001b[39;00m \u001b[38;5;167;01mIndexError\u001b[39;00m \u001b[38;5;28;01mas\u001b[39;00m e:\n",
      "File \u001b[0;32m/Library/Frameworks/Python.framework/Versions/3.10/lib/python3.10/queue.py:171\u001b[0m, in \u001b[0;36mQueue.get\u001b[0;34m(self, block, timeout)\u001b[0m\n\u001b[1;32m    169\u001b[0m \u001b[38;5;28;01melif\u001b[39;00m timeout \u001b[38;5;129;01mis\u001b[39;00m \u001b[38;5;28;01mNone\u001b[39;00m:\n\u001b[1;32m    170\u001b[0m     \u001b[38;5;28;01mwhile\u001b[39;00m \u001b[38;5;129;01mnot\u001b[39;00m \u001b[38;5;28mself\u001b[39m\u001b[38;5;241m.\u001b[39m_qsize():\n\u001b[0;32m--> 171\u001b[0m         \u001b[38;5;28;43mself\u001b[39;49m\u001b[38;5;241;43m.\u001b[39;49m\u001b[43mnot_empty\u001b[49m\u001b[38;5;241;43m.\u001b[39;49m\u001b[43mwait\u001b[49m\u001b[43m(\u001b[49m\u001b[43m)\u001b[49m\n\u001b[1;32m    172\u001b[0m \u001b[38;5;28;01melif\u001b[39;00m timeout \u001b[38;5;241m<\u001b[39m \u001b[38;5;241m0\u001b[39m:\n\u001b[1;32m    173\u001b[0m     \u001b[38;5;28;01mraise\u001b[39;00m \u001b[38;5;167;01mValueError\u001b[39;00m(\u001b[38;5;124m\"\u001b[39m\u001b[38;5;124m'\u001b[39m\u001b[38;5;124mtimeout\u001b[39m\u001b[38;5;124m'\u001b[39m\u001b[38;5;124m must be a non-negative number\u001b[39m\u001b[38;5;124m\"\u001b[39m)\n",
      "File \u001b[0;32m/Library/Frameworks/Python.framework/Versions/3.10/lib/python3.10/threading.py:320\u001b[0m, in \u001b[0;36mCondition.wait\u001b[0;34m(self, timeout)\u001b[0m\n\u001b[1;32m    318\u001b[0m \u001b[38;5;28;01mtry\u001b[39;00m:    \u001b[38;5;66;03m# restore state no matter what (e.g., KeyboardInterrupt)\u001b[39;00m\n\u001b[1;32m    319\u001b[0m     \u001b[38;5;28;01mif\u001b[39;00m timeout \u001b[38;5;129;01mis\u001b[39;00m \u001b[38;5;28;01mNone\u001b[39;00m:\n\u001b[0;32m--> 320\u001b[0m         \u001b[43mwaiter\u001b[49m\u001b[38;5;241;43m.\u001b[39;49m\u001b[43macquire\u001b[49m\u001b[43m(\u001b[49m\u001b[43m)\u001b[49m\n\u001b[1;32m    321\u001b[0m         gotit \u001b[38;5;241m=\u001b[39m \u001b[38;5;28;01mTrue\u001b[39;00m\n\u001b[1;32m    322\u001b[0m     \u001b[38;5;28;01melse\u001b[39;00m:\n",
      "\u001b[0;31mKeyboardInterrupt\u001b[0m: "
     ]
    }
   ],
   "source": [
    "# queue using queue module\n",
    "from queue import Queue\n",
    "\n",
    "queue = Queue()\n",
    "\n",
    "queue.put(1)\n",
    "queue.put(2)\n",
    "\n",
    "for i in range(3):\n",
    "    try:\n",
    "        dummy_var = queue.get() # pop from front\n",
    "        print(f\"Element popped is {dummy_var}\\n\")\n",
    "    except IndexError as e:\n",
    "        print(e) # pop from empty list\n",
    "        "
   ]
  },
  {
   "cell_type": "markdown",
   "id": "13debc8e",
   "metadata": {},
   "source": [
    "Did you run the code? Notice how the interpreter waits indefinitely? This is because the queue is empty and the get() method is called. The queue is a blocking queue, meaning the get() method will wait until an element is added to the queue using the put() method, and this is useful in a multi-threaded environment. However, if we want to use the queue in a single-threaded environment, we can use the get_nowait() method, which will raise an exception if the queue is empty."
   ]
  },
  {
   "cell_type": "code",
   "execution_count": 74,
   "id": "ea72c4b0",
   "metadata": {},
   "outputs": [
    {
     "name": "stdout",
     "output_type": "stream",
     "text": [
      "Element popped is 1\n",
      "\n",
      "Element popped is 2\n",
      "\n",
      "Empty exception is raised\n"
     ]
    }
   ],
   "source": [
    "from queue import Queue\n",
    "\n",
    "queue = Queue()\n",
    "\n",
    "queue.put(1)\n",
    "queue.put(2)\n",
    "\n",
    "for i in range(3):\n",
    "    try:\n",
    "        dummy_var = queue.get_nowait() \n",
    "        print(f\"Element popped is {dummy_var}\\n\")\n",
    "    except: # catch all exceptions. Generally, it is not a good practice to catch all exceptions\n",
    "        print(\"Empty exception is raised\") # pop from empty list"
   ]
  },
  {
   "cell_type": "markdown",
   "id": "3f232ab3",
   "metadata": {},
   "source": [
    "### Priority Queues\n",
    "\n",
    "Priority Queues are queues where the elements are ordered based on a priority. The element with the highest priority is removed first. Priority Queues can be implemented using lists, and the sort method, but we saw why it is not a good idea. Priority Queues can also be implemented using the heapq module, which provides a heap data structure. The heap data structure is a binary tree, where the parent node is smaller than the child nodes. The heapq module provides methods to push and pop elements from the heap, and also to heapify a list. The time complexity of the push and pop methods is O(log n), meaning it takes logarithmic time to push and pop elements from the heap, irrespective of the number of elements in the heap. The final result is the same as using a list, but the time taken is less, especially for large number of elements."
   ]
  },
  {
   "cell_type": "code",
   "execution_count": 75,
   "id": "aaf31ad1",
   "metadata": {},
   "outputs": [
    {
     "name": "stdout",
     "output_type": "stream",
     "text": [
      "Element popped is (1, 'Google')\n",
      "\n",
      "Element popped is (2, 'Apple')\n",
      "\n",
      "Element popped is (3, 'Microsoft')\n",
      "\n",
      "index out of range\n"
     ]
    }
   ],
   "source": [
    "# priority queue using heapq module\n",
    "\n",
    "import heapq\n",
    "\n",
    "my_priority_queue = []\n",
    "\n",
    "heapq.heappush(my_priority_queue, (2, 'Apple'))\n",
    "heapq.heappush(my_priority_queue, (1, 'Google'))\n",
    "heapq.heappush(my_priority_queue, (3, 'Microsoft'))\n",
    "\n",
    "for i in range(4):\n",
    "    try:\n",
    "        dummy_var = heapq.heappop(my_priority_queue)\n",
    "        print(f\"Element popped is {dummy_var}\\n\")\n",
    "    except IndexError as e:\n",
    "        print(e) # pop from empty list"
   ]
  },
  {
   "cell_type": "markdown",
   "id": "6312c157",
   "metadata": {},
   "source": [
    "## Additional Data Structures in Python\n",
    "\n",
    "While we've covered several fundamental data structures, Python offers a rich set beyond the built-in `list`, `tuple`, `set`, and `dict`. Let's explore some noteworthy examples:\n",
    "\n",
    "**Collections Module:**\n",
    "\n",
    "The `collections` module provides additional specialized data structures:\n",
    "\n",
    "* **`Counter`:** A subclass of dictionary specifically designed for counting hashable objects. It provides convenient methods for tracking element frequencies.\n",
    "* **`ChainMap`:** Creates a single view of multiple dictionaries, enabling efficient searching across multiple layers.\n",
    "* **`UserDict`, `UserList`, `UserString`:** Wrapper classes that provide additional functionalities on top of the built-in `dict`, `list`, and `string` classes.\n",
    "\n",
    "**Linked Lists:**\n",
    "\n",
    "* Not directly included in the `collections` module, linked lists can be implemented using custom classes.\n",
    "* **Structure:** Each element (node) holds data and a reference to the next node in the sequence.\n",
    "* **Advantages:** Efficient for insertions and deletions at the beginning or end (constant time complexity).\n",
    "* **Disadvantages:** Random access by index is less efficient (linear time complexity) compared to lists.\n"
   ]
  }
 ],
 "metadata": {
  "kernelspec": {
   "display_name": "Python 3 (ipykernel)",
   "language": "python",
   "name": "python3"
  },
  "language_info": {
   "codemirror_mode": {
    "name": "ipython",
    "version": 3
   },
   "file_extension": ".py",
   "mimetype": "text/x-python",
   "name": "python",
   "nbconvert_exporter": "python",
   "pygments_lexer": "ipython3",
   "version": "3.10.11"
  }
 },
 "nbformat": 4,
 "nbformat_minor": 5
}
